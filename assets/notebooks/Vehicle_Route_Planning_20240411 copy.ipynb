{
 "cells": [
  {
   "cell_type": "markdown",
   "metadata": {
    "id": "BOX7Hgy5E35q"
   },
   "source": [
    "# Vehicle Route Planning"
   ]
  },
  {
   "cell_type": "markdown",
   "metadata": {
    "id": "XAJHtIprEu_F"
   },
   "source": [
    "## Packages"
   ]
  },
  {
   "cell_type": "code",
   "execution_count": 26,
   "metadata": {
    "id": "wrGh3SasD0iY"
   },
   "outputs": [],
   "source": [
    "## Data Acess and Manipulation\n",
    "import json\n",
    "import numpy as np\n",
    "import pandas as pd\n",
    "import snowflake.connector as sf\n",
    "\n",
    "# Data Visualization\n",
    "import seaborn as sns\n",
    "import matplotlib.pyplot as plt\n",
    "from matplotlib.patches import Rectangle\n",
    "\n",
    "## for vehicle route planning\n",
    "from ortools.constraint_solver import pywrapcp\n",
    "from ortools.constraint_solver import routing_enums_pb2\n",
    "\n",
    "## Utilities\n",
    "import os\n",
    "import logging\n",
    "from functools import partial\n",
    "#from google.colab import userdata\n",
    "from multiprocessing import cpu_count\n",
    "from concurrent.futures import ProcessPoolExecutor as Executor\n",
    "\n",
    "## Geospatial Work\n",
    "import folium\n",
    "from folium import plugins\n",
    "import osmnx as ox\n",
    "import networkx as nx\n",
    "from shapely.geometry import shape, Point\n",
    "from math import sin, cos, sqrt, atan2, radians\n",
    "\n",
    "## Multiprocessing\n",
    "from multiprocessing import Pool, cpu_count\n",
    "\n",
    "## Utilities\n",
    "### importing necessary functions from dotenv library and loading variables from .env file\n",
    "import os\n",
    "from dotenv import load_dotenv \n",
    "load_dotenv()\n",
    "\n",
    "# Geopandas\n",
    "import geopandas\n",
    "\n",
    "from tqdm import tqdm\n",
    "\n",
    "import plotly.express as px"
   ]
  },
  {
   "cell_type": "code",
   "execution_count": 27,
   "metadata": {
    "id": "hxJp4PDSjVeP"
   },
   "outputs": [],
   "source": [
    "# Notebook Configurations\n",
    "pd.set_option('display.max_columns', None)\n",
    "pd.set_option('display.max_rows', None)\n",
    "\n",
    "logger = logging.getLogger()\n",
    "logger.setLevel(logging.INFO)"
   ]
  },
  {
   "cell_type": "code",
   "execution_count": 28,
   "metadata": {},
   "outputs": [
    {
     "data": {
      "text/plain": [
       "True"
      ]
     },
     "execution_count": 28,
     "metadata": {},
     "output_type": "execute_result"
    }
   ],
   "source": [
    "#>> Contains layout and callbacks for app 1\n",
    "''' \n",
    "Notes:\n",
    "This file is for creating app 1, it ontains layout and callbacks for app 1\n",
    "'''\n",
    "# Import packages---------------------------------------------------------------------------------------------\n",
    "## Data Acess and Manipulation\n",
    "import numpy as np\n",
    "\n",
    "## Import App Packages\n",
    "from dash import Dash, html, dcc, callback, Output, Input, dash_table\n",
    "import dash_bootstrap_components as dbc\n",
    "from datetime import datetime as dt\n",
    "from dash.exceptions import PreventUpdate\n",
    "import pandas as pd\n",
    "import io\n",
    "from flask import send_file\n",
    "\n",
    "## Data Visualization\n",
    "import plotly.graph_objs as go\n",
    "\n",
    "##Local Imports\n",
    "from src.utils.data_loaders import get_data_from_sf, get_geojson, load_dict\n",
    "from src.utils.queries import data_query_order_line, data_query_item_weights\n",
    "from src.utils.data_processing import data_preprocessing, calculate_metrics, generate_vehicle_names, data_preprocessing_map\n",
    "from src.utils.map import maps, route_maps\n",
    "from src.utils.vehicle_route_planning import DistanceCalculator, create_data_model, run_model\n",
    "from src.utils.routes_processing import enhance_optimized_route\n",
    "\n",
    "from app import app\n",
    "\n",
    "## Utilities\n",
    "import os\n",
    "from dotenv import load_dotenv \n",
    "load_dotenv()\n",
    "\n",
    "# Incorporate data---------------------------------------------------------------------------------------------"
   ]
  },
  {
   "cell_type": "code",
   "execution_count": 29,
   "metadata": {
    "colab": {
     "base_uri": "https://localhost:8080/",
     "height": 225
    },
    "id": "3KS6hEnkjT7A",
    "outputId": "657b2176-05e6-4224-9e25-8c56974b2bb9"
   },
   "outputs": [
    {
     "name": "stdout",
     "output_type": "stream",
     "text": [
      "Shape of the imported dataset is: (677, 2)\n"
     ]
    },
    {
     "data": {
      "text/html": [
       "<div>\n",
       "<style scoped>\n",
       "    .dataframe tbody tr th:only-of-type {\n",
       "        vertical-align: middle;\n",
       "    }\n",
       "\n",
       "    .dataframe tbody tr th {\n",
       "        vertical-align: top;\n",
       "    }\n",
       "\n",
       "    .dataframe thead th {\n",
       "        text-align: right;\n",
       "    }\n",
       "</style>\n",
       "<table border=\"1\" class=\"dataframe\">\n",
       "  <thead>\n",
       "    <tr style=\"text-align: right;\">\n",
       "      <th></th>\n",
       "      <th>itemCode</th>\n",
       "      <th>itemWeight</th>\n",
       "    </tr>\n",
       "  </thead>\n",
       "  <tbody>\n",
       "    <tr>\n",
       "      <th>0</th>\n",
       "      <td>GOSF0001</td>\n",
       "      <td>10.6</td>\n",
       "    </tr>\n",
       "    <tr>\n",
       "      <th>1</th>\n",
       "      <td>DBRF0006</td>\n",
       "      <td>0.1</td>\n",
       "    </tr>\n",
       "    <tr>\n",
       "      <th>2</th>\n",
       "      <td>AEHG0009</td>\n",
       "      <td>1.0</td>\n",
       "    </tr>\n",
       "    <tr>\n",
       "      <th>3</th>\n",
       "      <td>GRND0001</td>\n",
       "      <td>0.4</td>\n",
       "    </tr>\n",
       "    <tr>\n",
       "      <th>4</th>\n",
       "      <td>ULPL0014</td>\n",
       "      <td>1.0</td>\n",
       "    </tr>\n",
       "  </tbody>\n",
       "</table>\n",
       "</div>"
      ],
      "text/plain": [
       "   itemCode  itemWeight\n",
       "0  GOSF0001        10.6\n",
       "1  DBRF0006         0.1\n",
       "2  AEHG0009         1.0\n",
       "3  GRND0001         0.4\n",
       "4  ULPL0014         1.0"
      ]
     },
     "execution_count": 29,
     "metadata": {},
     "output_type": "execute_result"
    }
   ],
   "source": [
    "# Weights Master\n",
    "df_weights = pd.read_excel(\n",
    "    r'assets\\data\\Item Weight.xlsx'\n",
    "    )\n",
    "\n",
    "print(f\"Shape of the imported dataset is: {df_weights.shape}\")\n",
    "df_weights.head(5)"
   ]
  },
  {
   "cell_type": "code",
   "execution_count": 30,
   "metadata": {},
   "outputs": [],
   "source": [
    "# Loading Data\n",
    "df_order_line = get_data_from_sf(data_query_order_line)\n",
    "#df_weights = get_data_from_sf(data_query_item_weights)\n",
    "df_order_line = df_order_line[df_order_line['customerCode']!='17658'].copy() \n",
    "df_order_line['itemTotalWeight'] = df_order_line['itemTotalWeight'].replace(0, 1)\n",
    "    \n",
    "js = get_geojson(os.getenv(\"geojson_loc_2\"))\n",
    "\n",
    "# Preprocessing the Data\n",
    "df = data_preprocessing(df_order_line, df_weights, js)\n",
    "\n",
    "choropleth_df, order_details = data_preprocessing_map(df)"
   ]
  },
  {
   "cell_type": "markdown",
   "metadata": {
    "id": "YfZy363J9xKx"
   },
   "source": [
    "## Exploration"
   ]
  },
  {
   "cell_type": "code",
   "execution_count": 32,
   "metadata": {},
   "outputs": [
    {
     "name": "stderr",
     "output_type": "stream",
     "text": [
      "C:\\Users\\lakshmi.n.GAGROUP\\AppData\\Local\\Temp\\ipykernel_6216\\2520114857.py:33: FutureWarning:\n",
      "\n",
      "A value is trying to be set on a copy of a DataFrame or Series through chained assignment using an inplace method.\n",
      "The behavior will change in pandas 3.0. This inplace method will never work because the intermediate object on which we are setting values always behaves as a copy.\n",
      "\n",
      "For example, when doing 'df[col].method(value, inplace=True)', try using 'df.method({col: value}, inplace=True)' or df[col] = df[col].method(value) instead, to perform the operation inplace on the original object.\n",
      "\n",
      "\n",
      "\n"
     ]
    }
   ],
   "source": [
    "# Gallega Cold Store\n",
    "start = [24.931690466392208, 55.06185223067843]\n",
    "order_details = df.groupby(['customerCode', 'customerName', 'customerAddress', 'customerRegion', 'customerLat', 'customerLong']\n",
    "                            ).agg({\n",
    "                                'externalDocumentNo': lambda x: pd.Series.nunique(x),\n",
    "                                'itemTotalWeight': 'sum',\n",
    "                                'itemCode': lambda x: pd.Series.nunique(x),\n",
    "                                'invoiceQuantity': 'sum',\n",
    "                                'saleValue': 'sum',\n",
    "                                'costValue': 'sum'\n",
    "                                }\n",
    "                            ).reset_index().copy()\n",
    "order_details.rename(columns={\n",
    "                            'externalDocumentNo': 'totalOrders',\n",
    "                            'itemTotalWeight': 'totalWeight',\n",
    "                            'itemCode': 'totalItems'\n",
    "                            }, \n",
    "                    inplace=True\n",
    "                    )\n",
    "order_details['invoiceQuantity'] = order_details['invoiceQuantity'].abs()\n",
    "order_details['costValue'] = order_details['costValue'].abs()\n",
    "order_details['grossProfit'] = order_details['saleValue'] - order_details['costValue']\n",
    "order_details['grossProfitMargin'] = order_details['grossProfit'] / order_details['saleValue'] * 100\n",
    "order_details['customerRegion'] = order_details['customerRegion'].str.upper()\n",
    "order_details['totalWeight'] = order_details['totalWeight'].fillna(0) # Replace NaN values in the itemTotalWeight column with 0\n",
    "\n",
    "# Adding base row\n",
    "base_row = {'customerCode': 0000,'customerName': 'base', 'customerAddress': 'base', 'customerRegion': 'base', 'customerLat': start[0], 'customerLong': start[1]}\n",
    "order_details = pd.concat([pd.DataFrame(base_row, index=[0]), order_details], ignore_index=True)\n",
    "order_details[\"base\"] = order_details[\"customerName\"].apply(lambda x: 1 if x=='base' else 0)\n",
    "\n",
    "# Replace NaN values in the itemTotalWeight column with 0\n",
    "order_details['totalWeight'].fillna(0, inplace=True)\n",
    "order_details.head()\n",
    "\n",
    "\n",
    "class DistanceCalculator:\n",
    "    def __init__(self, bbox=None, network_type=\"drive\"):\n",
    "        self.G = None\n",
    "        self.bbox = bbox\n",
    "        self.network_type = network_type\n",
    "\n",
    "    def create_graph(self):\n",
    "        if self.bbox is None:\n",
    "            raise ValueError(\"Bounding box is not set.\")\n",
    "        north, south, east, west = self.bbox\n",
    "        self.G = ox.graph_from_bbox(north, south, east, west, network_type=self.network_type)\n",
    "        self.G = ox.add_edge_speeds(self.G)\n",
    "        self.G = ox.add_edge_travel_times(self.G)\n",
    "        logger.info(\"Graph created\")\n",
    "\n",
    "    def calculate_duration(self, a, b, units='travel_time', duration=True):\n",
    "        if self.G is None:\n",
    "            self.create_graph()\n",
    "        if a == b:\n",
    "            return 0\n",
    "        try:\n",
    "            route = nx.shortest_path(self.G, source=a, target=b, method='dijkstra', weight=units)\n",
    "            attrs = ox.utils_graph.route_to_gdf(self.G, route)\n",
    "        except nx.NetworkXNoPath:\n",
    "            return np.nan\n",
    "        except Exception as e:\n",
    "            logger.error(f\"Error {e} occurred for inputs {a}, {b}\")\n",
    "            return np.nan\n",
    "\n",
    "        return attrs[units].sum() if duration else attrs['length'].sum()\n",
    "\n",
    "    @staticmethod\n",
    "    def haversine_dist( x, y):\n",
    "        # Approximate radius of earth in km\n",
    "        R = 6373.0\n",
    "\n",
    "        lat1 = radians(float(x[0]))\n",
    "        lon1 = radians(float(x[-1]))\n",
    "        lat2 = radians(float(y[0]))\n",
    "        lon2 = radians(float(y[-1]))\n",
    "\n",
    "        dlon = lon2 - lon1\n",
    "        dlat = lat2 - lat1\n",
    "\n",
    "        a = sin(dlat / 2)**2 + cos(lat1) * cos(lat2) * sin(dlon / 2)**2\n",
    "        c = 2 * atan2(sqrt(a), sqrt(1 - a))\n",
    "\n",
    "        distance = R * c\n",
    "\n",
    "        return distance\n",
    "\n",
    "    @staticmethod\n",
    "    def calculate_gd(args):\n",
    "        x, y = args\n",
    "        return DistanceCalculator.haversine_dist(x, y)\n",
    "\n",
    "    def pairwise_distance(self, args, method='GD'):\n",
    "        p1, p2 = args\n",
    "        if method == 'GD':\n",
    "            return self.calculate_gd((p1, p2))\n",
    "        elif method == 'GRAPH':\n",
    "            return self.calculate_duration(p1, p2)\n",
    "\n",
    "    def df_to_dm(self, df, lat_col, long_col, uid, demand_ref, base_flag, method='GD'):\n",
    "        if not isinstance(df, pd.DataFrame):\n",
    "            raise ValueError(\"df must be a pandas DataFrame\")\n",
    "\n",
    "        required_cols = [lat_col, long_col, uid, demand_ref, base_flag]\n",
    "        if not all(col in df.columns for col in required_cols):\n",
    "            raise ValueError(f\"DataFrame must contain columns: {required_cols}\")\n",
    "\n",
    "        xy_coordinates = list(map(lambda x: list(x), df[[lat_col, long_col]].values))\n",
    "        xy_ids = df[uid].to_list()\n",
    "        xy_demand = list(df[demand_ref].values.flatten())\n",
    "        xy_demand[0] = 0\n",
    "\n",
    "        max_workers = cpu_count()\n",
    "        chunksize = 100  # Experiment with this value\n",
    "\n",
    "        if method == 'GD':\n",
    "            all_pairs = [(p1, p2) for p1 in xy_coordinates for p2 in xy_coordinates]\n",
    "        elif method == 'GRAPH':\n",
    "            if self.G is None:\n",
    "                self.create_graph()\n",
    "            xy_coordinates = list(map(lambda x: ox.distance.nearest_nodes(self.G, x[1], x[0]), xy_coordinates))\n",
    "            all_pairs = [(p1, p2) for p1 in xy_coordinates for p2 in xy_coordinates]\n",
    "\n",
    "        #with Executor(max_workers=max_workers) as executor:\n",
    "        dm = list(map(partial(self.pairwise_distance, method=method), all_pairs))\n",
    "        dm_matrix = np.array(dm).reshape(len(xy_coordinates), len(xy_coordinates))\n",
    "\n",
    "        # Normalizing data for optumizer\n",
    "        dm_matrix = dm_matrix*100\n",
    "        dm_matrix = dm_matrix.astype(int)\n",
    "        xy_demand = list(map(int, xy_demand))\n",
    "\n",
    "        logger.info(f\"Average distance between the points: {dm_matrix.mean()}\")\n",
    "        logger.info(f\"Range distance between the points: {dm_matrix.min()} - {dm_matrix.max()}\")\n",
    "\n",
    "        return xy_ids, xy_coordinates, xy_demand, dm_matrix\n",
    "\n",
    "# Usage\n",
    "bbox = (22.4969475367, 26.055464179, 51.5795186705, 56.3968473651)  # Set only if using 'GRAPH' method\n",
    "distance_calculator = DistanceCalculator(bbox=bbox, network_type=\"drive\")\n",
    "id, coordinates, demand, dm= distance_calculator.df_to_dm(order_details, 'customerLat', 'customerLong', 'customerCode', 'totalWeight', 'base', 'GD')"
   ]
  },
  {
   "cell_type": "code",
   "execution_count": 33,
   "metadata": {
    "colab": {
     "base_uri": "https://localhost:8080/",
     "height": 422
    },
    "id": "jU4Ve09lgN6h",
    "outputId": "9d579a89-56aa-4188-ddb0-b94d8eaca69a"
   },
   "outputs": [
    {
     "data": {
      "text/plain": [
       "'# Distance Matrics\\nbbox = (22.4969475367, 26.055464179, 51.5795186705, 56.3968473651)  # Set only if using \\'GRAPH\\' method\\ndistance_calculator = DistanceCalculator(bbox=bbox, network_type=\"drive\")\\nid, coordinates, demand, dm = distance_calculator.df_to_dm(order_details, \\'customerLat\\', \\'customerLong\\', \\'customerCode\\', \\'totalWeight\\', \\'base\\', \\'GD\\')\\n'"
      ]
     },
     "execution_count": 33,
     "metadata": {},
     "output_type": "execute_result"
    }
   ],
   "source": [
    "\"\"\"# Distance Matrics\n",
    "bbox = (22.4969475367, 26.055464179, 51.5795186705, 56.3968473651)  # Set only if using 'GRAPH' method\n",
    "distance_calculator = DistanceCalculator(bbox=bbox, network_type=\"drive\")\n",
    "id, coordinates, demand, dm = distance_calculator.df_to_dm(order_details, 'customerLat', 'customerLong', 'customerCode', 'totalWeight', 'base', 'GD')\n",
    "\"\"\""
   ]
  },
  {
   "cell_type": "code",
   "execution_count": 8,
   "metadata": {},
   "outputs": [],
   "source": [
    "data = create_data_model(demand, dm)\n",
    "manager, routing, solution, output= run_model(data)"
   ]
  },
  {
   "cell_type": "markdown",
   "metadata": {},
   "source": [
    "## Constraint Optimization"
   ]
  },
  {
   "cell_type": "code",
   "execution_count": 34,
   "metadata": {},
   "outputs": [
    {
     "data": {
      "text/plain": [
       "(3, 5000)"
      ]
     },
     "execution_count": 34,
     "metadata": {},
     "output_type": "execute_result"
    }
   ],
   "source": [
    "def get_num_trucks(total_weight):\n",
    "    # Calculate the ideal weights based on a 70-30 mix\n",
    "    weight_3ton = 0.7 * total_weight\n",
    "    weight_1ton = 0.3 * total_weight\n",
    "\n",
    "    # Calculate the number of trucks, rounding to the nearest whole number\n",
    "    num_3ton_trucks = round(weight_3ton / 3000)\n",
    "    num_1ton_trucks = round(weight_1ton / 1000)\n",
    "\n",
    "    # Calculate the total weight these trucks can carry\n",
    "    total_carried_weight = (num_3ton_trucks * 3000) + (num_1ton_trucks * 1000)\n",
    "\n",
    "    # Adjusting for the remainder if total carried weight is less than total weight\n",
    "    while total_carried_weight < total_weight:\n",
    "        # Check which addition gets closer to the goal\n",
    "        if (total_weight - total_carried_weight) >= 3000:\n",
    "            num_3ton_trucks += 1\n",
    "            total_carried_weight += 3000\n",
    "        else:\n",
    "            num_1ton_trucks += 1\n",
    "            total_carried_weight += 1000\n",
    "\n",
    "    return [3000] * num_3ton_trucks + [1000] * num_1ton_trucks + [1000]*1\n",
    "\n",
    "truck_weights = get_num_trucks(sum(demand))\n",
    "len(truck_weights) , sum(truck_weights)"
   ]
  },
  {
   "cell_type": "code",
   "execution_count": 35,
   "metadata": {},
   "outputs": [
    {
     "data": {
      "text/plain": [
       "[3000, 1000, 1000]"
      ]
     },
     "execution_count": 35,
     "metadata": {},
     "output_type": "execute_result"
    }
   ],
   "source": [
    "truck_weights"
   ]
  },
  {
   "cell_type": "code",
   "execution_count": 36,
   "metadata": {},
   "outputs": [],
   "source": [
    "\"\"\"Capacited Vehicles Routing Problem (CVRP).\"\"\"\n",
    "\n",
    "from ortools.constraint_solver import routing_enums_pb2\n",
    "from ortools.constraint_solver import pywrapcp\n",
    "\n",
    "\n",
    "def create_data_model():\n",
    "    \"\"\"Stores the data for the problem.\"\"\"\n",
    "    data = {}\n",
    "    vehicle_capacities = get_num_trucks(sum(demand))\n",
    "    data[\"distance_matrix\"] = dm\n",
    "    data[\"demands\"] = demand\n",
    "    data[\"vehicle_capacities\"] = vehicle_capacities\n",
    "    data[\"num_vehicles\"] = len(vehicle_capacities)\n",
    "    data[\"depot\"] = 0\n",
    "    return data"
   ]
  },
  {
   "cell_type": "code",
   "execution_count": 37,
   "metadata": {},
   "outputs": [],
   "source": [
    "\n",
    "def print_solution(data, manager, routing, solution):\n",
    "    \"\"\"Prints solution on console.\"\"\"\n",
    "    routes_dict = {}\n",
    "    #print(f\"Objective: {solution.ObjectiveValue()}\")\n",
    "    total_distance = 0\n",
    "    total_load = 0\n",
    "    for vehicle_id in range(data[\"num_vehicles\"]):\n",
    "        route_seq=[]\n",
    "        route_seq_dict = {}\n",
    "        index = routing.Start(vehicle_id)\n",
    "        # plan_output = f\"Route for vehicle {vehicle_id}:\\n\"\n",
    "        route_distance = 0\n",
    "        route_distance_list = []\n",
    "        route_load = 0\n",
    "        route_load_list = []\n",
    "        while not routing.IsEnd(index):\n",
    "            node_index = manager.IndexToNode(index)\n",
    "            route_load += data[\"demands\"][node_index]\n",
    "            # plan_output += f\" {node_index} Load({route_load}) -> \"\n",
    "            route_seq.append(node_index)\n",
    "            route_load_list.append(route_load)\n",
    "            previous_index = index\n",
    "            index = solution.Value(routing.NextVar(index))\n",
    "            route_distance += routing.GetArcCostForVehicle(\n",
    "                previous_index, index, vehicle_id\n",
    "            )\n",
    "        # plan_output += f\" {manager.IndexToNode(index)} Load({route_load})\\n\"\n",
    "        # plan_output += f\"Distance of the route: {route_distance}m\\n\"\n",
    "        # plan_output += f\"Load of the route: {route_load}\\n\"\n",
    "        # print(plan_output)\n",
    "        total_distance += route_distance\n",
    "        total_load += route_load\n",
    "        route_seq_dict['route_plan'] = route_seq\n",
    "        route_seq_dict['cumulative_route_load'] = route_load_list\n",
    "        # route_seq_dict['route_distance'] = route_distance_list\n",
    "        routes_dict[vehicle_id] =  route_seq_dict\n",
    "    print(f\"Total distance of all routes: {total_distance}m\")\n",
    "    print(f\"Total load of all routes: {total_load}\")\n",
    "    return routes_dict\n"
   ]
  },
  {
   "cell_type": "code",
   "execution_count": 38,
   "metadata": {},
   "outputs": [],
   "source": [
    "\"\"\"Solve the CVRP problem.\"\"\"\n",
    "# Instantiate the data problem.\n",
    "data = create_data_model()\n",
    "\n",
    "# Create the routing index manager.\n",
    "manager = pywrapcp.RoutingIndexManager(\n",
    "    len(data[\"distance_matrix\"]), data[\"num_vehicles\"], data[\"depot\"]\n",
    ")\n",
    "\n",
    "# Create Routing Model.\n",
    "routing = pywrapcp.RoutingModel(manager)\n",
    "\n",
    "# Create and register a transit callback.\n",
    "def distance_callback(from_index, to_index):\n",
    "    \"\"\"Returns the distance between the two nodes.\"\"\"\n",
    "    # Convert from routing variable Index to distance matrix NodeIndex.\n",
    "    from_node = manager.IndexToNode(from_index)\n",
    "    to_node = manager.IndexToNode(to_index)\n",
    "    return data[\"distance_matrix\"][from_node][to_node]\n",
    "\n",
    "transit_callback_index = routing.RegisterTransitCallback(distance_callback)\n",
    "\n",
    "# Define cost of each arc.\n",
    "routing.SetArcCostEvaluatorOfAllVehicles(transit_callback_index)"
   ]
  },
  {
   "cell_type": "code",
   "execution_count": 39,
   "metadata": {},
   "outputs": [
    {
     "name": "stdout",
     "output_type": "stream",
     "text": [
      "Total distance of all routes: 85518m\n",
      "Total load of all routes: 3489\n"
     ]
    }
   ],
   "source": [
    "# Add Capacity constraint.\n",
    "def demand_callback(from_index):\n",
    "    \"\"\"Returns the demand of the node.\"\"\"\n",
    "    # Convert from routing variable Index to demands NodeIndex.\n",
    "    from_node = manager.IndexToNode(from_index)\n",
    "    return data[\"demands\"][from_node]\n",
    "\n",
    "demand_callback_index = routing.RegisterUnaryTransitCallback(demand_callback)\n",
    "routing.AddDimensionWithVehicleCapacity(\n",
    "    demand_callback_index,\n",
    "    0,  # null capacity slack\n",
    "    data[\"vehicle_capacities\"],  # vehicle maximum capacities\n",
    "    True,  # start cumul to zero\n",
    "    \"Capacity\",\n",
    ")\n",
    "\n",
    "# Setting first solution heuristic.\n",
    "search_parameters = pywrapcp.DefaultRoutingSearchParameters()\n",
    "search_parameters.first_solution_strategy = (\n",
    "    routing_enums_pb2.FirstSolutionStrategy.PATH_CHEAPEST_ARC\n",
    ")\n",
    "search_parameters.local_search_metaheuristic = (\n",
    "    routing_enums_pb2.LocalSearchMetaheuristic.GUIDED_LOCAL_SEARCH\n",
    ")\n",
    "search_parameters.time_limit.FromSeconds(30)\n",
    "\n",
    "# Solve the problem.\n",
    "solution = routing.SolveWithParameters(search_parameters)\n",
    "\n",
    "# Print solution on console.\n",
    "if solution:\n",
    "    logger.info(\"Solution found!\")\n",
    "    output = print_solution(data, manager, routing, solution)\n",
    "else:\n",
    "    logger.info(\"No solution found!\")"
   ]
  },
  {
   "cell_type": "code",
   "execution_count": 40,
   "metadata": {},
   "outputs": [
    {
     "name": "stdout",
     "output_type": "stream",
     "text": [
      "Assignment(Capacity0 (0) | Capacity1 (301) | Capacity2 (1707) | Capacity3 (639) | Capacity4 (1739) | Capacity5 (1742) | Capacity6 (640) | Capacity7 (1746) | Capacity8 (175) | Capacity9 (120) | Capacity10 (1306) | Capacity11 (1715) | Capacity12 (668) | Capacity13 (168) | Capacity14 (915) | Capacity15 (1315) | Capacity16 (2179) | Capacity17 (180) | Capacity18 (2186) | Capacity19 (674) | Capacity20 (2627) | Capacity21 (1899) | Capacity22 (2844) | Capacity23 (177) | Capacity24 (2169) | Capacity25 (1026) | Capacity26 (1060) | Capacity27 (1108) | Capacity28 (1292) | Capacity29 (2847) | Capacity30 (1527) | Capacity31 (1740) | Capacity32 (1777) | Capacity33 (2845) | Capacity34 (2796) | Capacity35 (1419) | Capacity36 (2472) | Capacity37 (2365) | Capacity38 (963) | Capacity39 (0) | Capacity40 (1318) | Capacity41 (2838) | Capacity42 (617) | Capacity43 (2826) | Capacity44 (1406) | Capacity45 (679) | Capacity46 (616) | Capacity47 (1112) | Capacity48 (1741) | Capacity49 (2282) | Capacity50 (2504) | Capacity51 (2189) | Capacity52 (2638) | Capacity53 (170) | Capacity54 (2496) | Capacity55 (1752) | Capacity56 (1110) | Capacity57 (144) | Capacity58 (643) | Capacity59 (183) | Capacity60 (1751) | Capacity61 (2417) | Capacity62 (675) | Capacity63 (2642) | Capacity64 (1801) | Capacity65 (730) | Capacity66 (1709) | Capacity67 (2361) | Capacity68 (1006) | Capacity69 (2633) | Capacity70 (1753) | Capacity71 (540) | Capacity72 (349) | Capacity73 (2424) | Capacity74 (273) | Capacity75 (2478) | Capacity76 (2802) | Capacity77 (2688) | Capacity78 (2359) | Capacity79 (612) | Capacity80 (669) | Capacity81 (1418) | Capacity82 (2281) | Capacity83 (2591) | Capacity84 (617) | Capacity85 (2652) | Capacity86 (2790) | Capacity87 (2640) | Capacity88 (2838) | Capacity89 (704) | Capacity90 (2360) | Capacity91 (546) | Capacity92 (670) | Capacity93 (927) | Capacity94 (2421) | Capacity95 (2832) | Capacity96 (703) | Capacity97 (909) | Capacity98 (2405) | Capacity99 (684) | Capacity100 (697) | Capacity101 (2318) | Capacity102 (685) | Capacity103 (1302) | Capacity104 (1059) | Capacity105 (1805) | Capacity106 (927) | Capacity107 (2651) | Capacity108 (1008) | Capacity109 (1897) | Capacity110 (2175) | Capacity111 (2294) | Capacity112 (2415) | Capacity113 (1307) | Capacity114 (0) | Capacity115 (32) | Capacity116 (2356) | Capacity117 (2784) | Capacity118 (2778) | Capacity119 (275) | Capacity120 (277) | Capacity121 (615) | Capacity122 (524) | Capacity123 (670) | Capacity124 (2173) | Capacity125 (0) | Capacity126 (0) | Capacity127 (2871) | Capacity128 (618) | Capacity129 (0) | Nexts0 (114) | Nexts1 (72) | Nexts2 (66) | Nexts3 (6) | Nexts4 (31) | Nexts5 (7) | Nexts6 (58) | Nexts7 (60) | Nexts8 (23) | Nexts9 (57) | Nexts10 (113) | Nexts11 (4) | Nexts12 (80) | Nexts13 (53) | Nexts14 (93) | Nexts15 (40) | Nexts16 (18) | Nexts17 (71) | Nexts18 (51) | Nexts19 (62) | Nexts20 (69) | Nexts21 (24) | Nexts22 (33) | Nexts23 (17) | Nexts24 (124) | Nexts25 (104) | Nexts26 (27) | Nexts27 (56) | Nexts28 (103) | Nexts29 (127) | Nexts30 (2) | Nexts31 (48) | Nexts32 (64) | Nexts33 (29) | Nexts34 (76) | Nexts35 (30) | Nexts36 (75) | Nexts37 (98) | Nexts38 (68) | Nexts39 (8) | Nexts40 (44) | Nexts41 (22) | Nexts42 (84) | Nexts43 (95) | Nexts44 (81) | Nexts45 (99) | Nexts46 (42) | Nexts47 (28) | Nexts48 (5) | Nexts49 (111) | Nexts50 (83) | Nexts51 (82) | Nexts52 (87) | Nexts53 (59) | Nexts54 (50) | Nexts55 (70) | Nexts56 (47) | Nexts57 (13) | Nexts58 (12) | Nexts59 (74) | Nexts60 (55) | Nexts61 (94) | Nexts62 (45) | Nexts63 (107) | Nexts64 (105) | Nexts65 (97) | Nexts66 (11) | Nexts67 (37) | Nexts68 (108) | Nexts69 (52) | Nexts70 (32) | Nexts71 (91) | Nexts72 (122) | Nexts73 (36) | Nexts74 (119) | Nexts75 (54) | Nexts76 (43) | Nexts77 (118) | Nexts78 (90) | Nexts79 (121) | Nexts80 (123) | Nexts81 (35) | Nexts82 (49) | Nexts83 (20) | Nexts84 (128) | Nexts85 (77) | Nexts86 (34) | Nexts87 (63) | Nexts88 (41) | Nexts89 (65) | Nexts90 (67) | Nexts91 (46) | Nexts92 (19) | Nexts93 (106) | Nexts94 (73) | Nexts95 (88) | Nexts96 (89) | Nexts97 (14) | Nexts98 (112) | Nexts99 (102) | Nexts100 (96) | Nexts101 (116) | Nexts102 (100) | Nexts103 (10) | Nexts104 (26) | Nexts105 (109) | Nexts106 (38) | Nexts107 (85) | Nexts108 (25) | Nexts109 (21) | Nexts110 (16) | Nexts111 (101) | Nexts112 (61) | Nexts113 (15) | Nexts114 (115) | Nexts115 (9) | Nexts116 (78) | Nexts117 (86) | Nexts118 (117) | Nexts119 (120) | Nexts120 (1) | Nexts121 (3) | Nexts122 (79) | Nexts123 (92) | Nexts124 (110) | Nexts125 (39) | Nexts126 (129) | Active0 (1) | Active1 (1) | Active2 (1) | Active3 (1) | Active4 (1) | Active5 (1) | Active6 (1) | Active7 (1) | Active8 (1) | Active9 (1) | Active10 (1) | Active11 (1) | Active12 (1) | Active13 (1) | Active14 (1) | Active15 (1) | Active16 (1) | Active17 (1) | Active18 (1) | Active19 (1) | Active20 (1) | Active21 (1) | Active22 (1) | Active23 (1) | Active24 (1) | Active25 (1) | Active26 (1) | Active27 (1) | Active28 (1) | Active29 (1) | Active30 (1) | Active31 (1) | Active32 (1) | Active33 (1) | Active34 (1) | Active35 (1) | Active36 (1) | Active37 (1) | Active38 (1) | Active39 (1) | Active40 (1) | Active41 (1) | Active42 (1) | Active43 (1) | Active44 (1) | Active45 (1) | Active46 (1) | Active47 (1) | Active48 (1) | Active49 (1) | Active50 (1) | Active51 (1) | Active52 (1) | Active53 (1) | Active54 (1) | Active55 (1) | Active56 (1) | Active57 (1) | Active58 (1) | Active59 (1) | Active60 (1) | Active61 (1) | Active62 (1) | Active63 (1) | Active64 (1) | Active65 (1) | Active66 (1) | Active67 (1) | Active68 (1) | Active69 (1) | Active70 (1) | Active71 (1) | Active72 (1) | Active73 (1) | Active74 (1) | Active75 (1) | Active76 (1) | Active77 (1) | Active78 (1) | Active79 (1) | Active80 (1) | Active81 (1) | Active82 (1) | Active83 (1) | Active84 (1) | Active85 (1) | Active86 (1) | Active87 (1) | Active88 (1) | Active89 (1) | Active90 (1) | Active91 (1) | Active92 (1) | Active93 (1) | Active94 (1) | Active95 (1) | Active96 (1) | Active97 (1) | Active98 (1) | Active99 (1) | Active100 (1) | Active101 (1) | Active102 (1) | Active103 (1) | Active104 (1) | Active105 (1) | Active106 (1) | Active107 (1) | Active108 (1) | Active109 (1) | Active110 (1) | Active111 (1) | Active112 (1) | Active113 (1) | Active114 (1) | Active115 (1) | Active116 (1) | Active117 (1) | Active118 (1) | Active119 (1) | Active120 (1) | Active121 (1) | Active122 (1) | Active123 (1) | Active124 (1) | Active125 (1) | Active126 (1) | Vehicles0 (0) | Vehicles1 (0) | Vehicles2 (0) | Vehicles3 (0) | Vehicles4 (0) | Vehicles5 (0) | Vehicles6 (0) | Vehicles7 (0) | Vehicles8 (1) | Vehicles9 (0) | Vehicles10 (0) | Vehicles11 (0) | Vehicles12 (0) | Vehicles13 (0) | Vehicles14 (0) | Vehicles15 (0) | Vehicles16 (0) | Vehicles17 (1) | Vehicles18 (0) | Vehicles19 (0) | Vehicles20 (0) | Vehicles21 (0) | Vehicles22 (0) | Vehicles23 (1) | Vehicles24 (0) | Vehicles25 (0) | Vehicles26 (0) | Vehicles27 (0) | Vehicles28 (0) | Vehicles29 (0) | Vehicles30 (0) | Vehicles31 (0) | Vehicles32 (0) | Vehicles33 (0) | Vehicles34 (0) | Vehicles35 (0) | Vehicles36 (0) | Vehicles37 (0) | Vehicles38 (0) | Vehicles39 (1) | Vehicles40 (0) | Vehicles41 (0) | Vehicles42 (1) | Vehicles43 (0) | Vehicles44 (0) | Vehicles45 (0) | Vehicles46 (1) | Vehicles47 (0) | Vehicles48 (0) | Vehicles49 (0) | Vehicles50 (0) | Vehicles51 (0) | Vehicles52 (0) | Vehicles53 (0) | Vehicles54 (0) | Vehicles55 (0) | Vehicles56 (0) | Vehicles57 (0) | Vehicles58 (0) | Vehicles59 (0) | Vehicles60 (0) | Vehicles61 (0) | Vehicles62 (0) | Vehicles63 (0) | Vehicles64 (0) | Vehicles65 (0) | Vehicles66 (0) | Vehicles67 (0) | Vehicles68 (0) | Vehicles69 (0) | Vehicles70 (0) | Vehicles71 (1) | Vehicles72 (0) | Vehicles73 (0) | Vehicles74 (0) | Vehicles75 (0) | Vehicles76 (0) | Vehicles77 (0) | Vehicles78 (0) | Vehicles79 (0) | Vehicles80 (0) | Vehicles81 (0) | Vehicles82 (0) | Vehicles83 (0) | Vehicles84 (1) | Vehicles85 (0) | Vehicles86 (0) | Vehicles87 (0) | Vehicles88 (0) | Vehicles89 (0) | Vehicles90 (0) | Vehicles91 (1) | Vehicles92 (0) | Vehicles93 (0) | Vehicles94 (0) | Vehicles95 (0) | Vehicles96 (0) | Vehicles97 (0) | Vehicles98 (0) | Vehicles99 (0) | Vehicles100 (0) | Vehicles101 (0) | Vehicles102 (0) | Vehicles103 (0) | Vehicles104 (0) | Vehicles105 (0) | Vehicles106 (0) | Vehicles107 (0) | Vehicles108 (0) | Vehicles109 (0) | Vehicles110 (0) | Vehicles111 (0) | Vehicles112 (0) | Vehicles113 (0) | Vehicles114 (0) | Vehicles115 (0) | Vehicles116 (0) | Vehicles117 (0) | Vehicles118 (0) | Vehicles119 (0) | Vehicles120 (0) | Vehicles121 (0) | Vehicles122 (0) | Vehicles123 (0) | Vehicles124 (0) | Vehicles125 (1) | Vehicles126 (2) | Vehicles127 (0) | Vehicles128 (1) | Vehicles129 (2) | (85518))\n"
     ]
    }
   ],
   "source": [
    "print(solution)"
   ]
  },
  {
   "cell_type": "code",
   "execution_count": 41,
   "metadata": {},
   "outputs": [
    {
     "name": "stdout",
     "output_type": "stream",
     "text": [
      "Total distance of all routes: 85518m\n",
      "Total load of all routes: 3489\n"
     ]
    }
   ],
   "source": [
    "output = print_solution(data, manager, routing, solution)"
   ]
  },
  {
   "cell_type": "code",
   "execution_count": 42,
   "metadata": {},
   "outputs": [
    {
     "name": "stdout",
     "output_type": "stream",
     "text": [
      "API call failed for this list of coordinates coordinates:  [[55.06185223067843, 24.931690466392208], ['54.7657693', '24.6602292'], ['54.7575763', '24.6707191'], ['54.3747856', '24.50100336'], ['54.370499', '24.4931406'], ['54.3597598', '24.4871026'], ['54.36914106', '24.47915454'], ['54.36944566', '24.4779622'], ['54.3677833333333', '24.4728616666666'], ['54.36736939', '24.47635665'], ['54.366818333333335', '24.478395'], ['54.3590733333333', '24.4795116666666'], ['54.35046', '24.4766288'], ['54.33945', '24.467705'], ['54.3522282', '24.4653153'], ['54.36076666666666', '24.459656666666667'], ['54.38882814', '24.45850988'], ['54.3905066666666', '24.448175'], ['54.3975683333333', '24.4440783333333'], ['54.40946454', '24.44114063'], ['54.41577136', '24.4432398'], ['54.4311572', '24.4331815'], ['54.49636961', '24.37160745'], ['54.48985735', '24.35997755'], ['54.47736356', '24.34921475'], ['54.4699459', '24.3404444'], ['54.4787668', '24.3414307'], ['54.49656478', '24.34999375'], ['54.5372453', '24.3186035'], ['54.5380116666666', '24.3197666666666'], ['54.53585666666666', '24.32323166666667'], ['54.53576666666666', '24.327338333333334'], ['54.5360551', '24.3339965'], ['54.51811', '24.3649837'], ['54.5148819', '24.3677085'], ['54.5723216666666', '24.3990083333333'], ['54.60022', '24.437365'], ['54.6138548', '24.4535141'], ['54.59295999999999', '24.404148333333335'], ['54.61700566', '24.32524234'], ['54.6429638', '24.3067617'], ['55.56585807', '24.0341591'], ['55.82121251150966', '24.11610693600835'], ['55.84947001', '24.11143'], ['55.8346409', '24.1436269'], ['55.8288501', '24.1505511'], ['55.8183753', '24.1496708'], ['55.77398621', '24.19665873'], ['55.7575118', '24.1981994'], ['55.77837903', '24.21432266'], ['56.3595943', '25.036172'], ['56.35626177', '25.07622899'], ['56.2975369', '25.09298798'], ['56.27442183', '25.09900074'], ['56.36021631', '25.27326995'], ['56.2727644', '25.5935375'], ['56.2431643', '25.5755402'], ['55.9710177', '25.7633027'], ['55.9699222', '25.7661358'], ['55.96648832', '25.77172146'], ['55.9705855', '25.7816558'], ['55.95052384', '25.80145174'], ['55.9446287', '25.79107502'], ['55.85484537', '25.66266891'], ['55.86912513', '25.30724847'], ['55.88252897', '25.29171686'], ['55.63047971', '25.30978106'], ['55.54313071', '25.38464877'], ['55.5192656', '25.4370307'], ['55.49824144', '25.38165527'], ['55.4799754', '25.3917562'], ['55.45546307', '25.37995077'], ['55.45113405', '25.38769087'], ['55.4451081', '25.4012944'], ['55.4366103', '25.4045687'], ['55.43556333333333', '25.393219999999996'], ['55.40559712', '25.37257187'], ['55.40382435', '25.37196142'], ['55.40177112', '25.360253'], ['55.38831455', '25.35972609'], ['55.3838922', '25.3547683'], ['55.38587193', '25.35490789'], ['55.38863035', '25.35264558'], ['55.39481718', '25.34971102'], ['55.38722309', '25.33894164'], ['55.4088597', '25.34137349'], ['55.44581707', '25.29850875'], ['55.41499463', '25.26537232'], ['55.37713072', '25.31520358'], ['55.37304876', '25.30823075'], ['55.36822007', '25.30575679'], ['55.3410587', '25.2780203'], ['55.33786333333334', '25.27694333333333'], ['55.3309177', '25.2794345'], ['55.330515', '25.2754967'], ['55.3256673', '25.2721143'], ['55.3168184', '25.2825314'], ['55.31120806', '25.277135'], ['55.312685', '25.274213'], ['55.315238', '25.2725107'], ['55.3060550999999', '25.2489204'], ['55.30015613', '25.24346687'], ['55.30816795', '25.23594511'], ['55.3032906', '25.2145565'], ['55.4012557213127', '25.1745288586712'], ['55.4029451496899', '25.1740716956555'], ['55.4019850865006', '25.1714434241876'], ['55.40295034646988', '25.16491392161697'], ['55.4084034', '25.1648925'], ['55.4178927652537', '25.1641816366463'], ['55.4074282106012', '25.1595847913995'], ['55.4043341986835', '25.1609065337106'], ['55.39898654446', '25.1614502677693'], ['55.3951349999999', '25.11793'], ['55.31539333333333', '25.095646666666667'], ['55.1971414', '24.98360909']]\n",
      "{\"error\":{\"code\":2004,\"message\":\"Request parameters exceed the server configuration limits. The specified number of waypoints must not be greater than 70.\"},\"info\":{\"engine\":{\"build_date\":\"2024-01-29T14:41:12Z\",\"version\":\"7.1.1\"},\"timestamp\":1712968154104}}\n",
      "API call failed for this list of coordinates coordinates:  [[55.06185223067843, 24.931690466392208], ['54.7657693', '24.6602292'], ['54.7575763', '24.6707191'], ['54.3747856', '24.50100336'], ['54.370499', '24.4931406'], ['54.3597598', '24.4871026'], ['54.36914106', '24.47915454'], ['54.36944566', '24.4779622'], ['54.3677833333333', '24.4728616666666'], ['54.36736939', '24.47635665'], ['54.366818333333335', '24.478395'], ['54.3590733333333', '24.4795116666666'], ['54.35046', '24.4766288'], ['54.33945', '24.467705'], ['54.3522282', '24.4653153'], ['54.36076666666666', '24.459656666666667'], ['54.38882814', '24.45850988'], ['54.3905066666666', '24.448175'], ['54.3975683333333', '24.4440783333333'], ['54.40946454', '24.44114063'], ['54.41577136', '24.4432398'], ['54.4311572', '24.4331815'], ['54.49636961', '24.37160745'], ['54.48985735', '24.35997755'], ['54.47736356', '24.34921475'], ['54.4699459', '24.3404444'], ['54.4787668', '24.3414307'], ['54.49656478', '24.34999375'], ['54.5372453', '24.3186035'], ['54.5380116666666', '24.3197666666666'], ['54.53585666666666', '24.32323166666667'], ['54.53576666666666', '24.327338333333334'], ['54.5360551', '24.3339965'], ['54.51811', '24.3649837'], ['54.5148819', '24.3677085'], ['54.5723216666666', '24.3990083333333'], ['54.60022', '24.437365'], ['54.6138548', '24.4535141'], ['54.59295999999999', '24.404148333333335'], ['54.61700566', '24.32524234'], ['54.6429638', '24.3067617'], ['55.56585807', '24.0341591'], ['55.82121251150966', '24.11610693600835'], ['55.84947001', '24.11143'], ['55.8346409', '24.1436269'], ['55.8288501', '24.1505511'], ['55.8183753', '24.1496708'], ['55.77398621', '24.19665873'], ['55.7575118', '24.1981994'], ['55.77837903', '24.21432266'], ['56.3595943', '25.036172'], ['56.35626177', '25.07622899'], ['56.2975369', '25.09298798'], ['56.27442183', '25.09900074'], ['56.36021631', '25.27326995'], ['56.2727644', '25.5935375'], ['56.2431643', '25.5755402'], ['55.9710177', '25.7633027'], ['55.9699222', '25.7661358'], ['55.96648832', '25.77172146'], ['55.9705855', '25.7816558'], ['55.95052384', '25.80145174'], ['55.9446287', '25.79107502'], ['55.85484537', '25.66266891'], ['55.86912513', '25.30724847'], ['55.88252897', '25.29171686'], ['55.63047971', '25.30978106'], ['55.54313071', '25.38464877'], ['55.5192656', '25.4370307'], ['55.49824144', '25.38165527'], ['55.4799754', '25.3917562'], ['55.45546307', '25.37995077'], ['55.45113405', '25.38769087'], ['55.4451081', '25.4012944'], ['55.4366103', '25.4045687'], ['55.43556333333333', '25.393219999999996'], ['55.40559712', '25.37257187'], ['55.40382435', '25.37196142'], ['55.40177112', '25.360253'], ['55.38831455', '25.35972609'], ['55.3838922', '25.3547683'], ['55.38587193', '25.35490789'], ['55.38863035', '25.35264558'], ['55.39481718', '25.34971102'], ['55.38722309', '25.33894164'], ['55.4088597', '25.34137349'], ['55.44581707', '25.29850875'], ['55.41499463', '25.26537232'], ['55.37713072', '25.31520358'], ['55.37304876', '25.30823075'], ['55.36822007', '25.30575679'], ['55.3410587', '25.2780203'], ['55.33786333333334', '25.27694333333333'], ['55.3309177', '25.2794345'], ['55.330515', '25.2754967'], ['55.3256673', '25.2721143'], ['55.3168184', '25.2825314'], ['55.31120806', '25.277135'], ['55.312685', '25.274213'], ['55.315238', '25.2725107'], ['55.3060550999999', '25.2489204'], ['55.30015613', '25.24346687'], ['55.30816795', '25.23594511'], ['55.3032906', '25.2145565'], ['55.4012557213127', '25.1745288586712'], ['55.4029451496899', '25.1740716956555'], ['55.4019850865006', '25.1714434241876'], ['55.40295034646988', '25.16491392161697'], ['55.4084034', '25.1648925'], ['55.4178927652537', '25.1641816366463'], ['55.4074282106012', '25.1595847913995'], ['55.4043341986835', '25.1609065337106'], ['55.39898654446', '25.1614502677693'], ['55.3951349999999', '25.11793'], ['55.31539333333333', '25.095646666666667'], ['55.1971414', '24.98360909']]\n",
      "{\"error\":{\"code\":2004,\"message\":\"Request parameters exceed the server configuration limits. The specified number of waypoints must not be greater than 70.\"},\"info\":{\"engine\":{\"build_date\":\"2024-01-29T14:41:12Z\",\"version\":\"7.1.1\"},\"timestamp\":1712968157584}}\n"
     ]
    }
   ],
   "source": [
    "route_output = enhance_optimized_route(output, coordinates, id)"
   ]
  },
  {
   "cell_type": "code",
   "execution_count": null,
   "metadata": {},
   "outputs": [],
   "source": []
  },
  {
   "cell_type": "code",
   "execution_count": null,
   "metadata": {},
   "outputs": [],
   "source": []
  },
  {
   "cell_type": "markdown",
   "metadata": {
    "id": "JE4DZpXPrmOY"
   },
   "source": [
    "## Getting routes"
   ]
  },
  {
   "cell_type": "code",
   "execution_count": 19,
   "metadata": {
    "id": "UmN6tdgEn0Q7"
   },
   "outputs": [],
   "source": [
    "import requests\n",
    "import json\n",
    "import time\n",
    "\n",
    "def reverse_coordinates(input):\n",
    "  output = []\n",
    "  for each in input:\n",
    "    each.reverse()\n",
    "    output.append(each)\n",
    "  return output\n",
    "\n",
    "def return_coords(coords,ls):\n",
    "    r_ls = [coords[each] for each in ls]\n",
    "    r_ls = list(map(list,r_ls))\n",
    "    r_ls = reverse_coordinates(input=r_ls)\n",
    "    return r_ls\n",
    "\n",
    "def return_ids(ids,ls):\n",
    "    r_ls = [ids[each] for each in ls]\n",
    "    return r_ls\n",
    "\n",
    "def call_api(coordinates):\n",
    "\n",
    "  body = {\"coordinates\": coordinates}\n",
    "\n",
    "  headers = {\n",
    "      'Accept': 'application/json, application/geo+json, application/gpx+xml, img/png; charset=utf-8',\n",
    "      'Authorization': '5b3ce3597851110001cf624822b79fbe37204f6a83490d4a1566d9a5',\n",
    "      'Content-Type': 'application/json; charset=utf-8'\n",
    "  }\n",
    "  call = requests.post('https://api.openrouteservice.org/v2/directions/driving-car', json=body, headers=headers)\n",
    "\n",
    "  # print(call.status_code, call.reason)\n",
    "  if call.status_code == 200:\n",
    "    response = json.loads(call.text)\n",
    "    geometry = response['routes'][0]['geometry']\n",
    "    distance = round(response['routes'][0]['summary']['distance']/1000,1)\n",
    "    duration = round(response['routes'][0]['summary']['duration']/60,1)\n",
    "  else:\n",
    "    print(\"API call failed for this list of coordinates coordinates: \", coordinates)\n",
    "    print(call.text)\n",
    "    geometry = None\n",
    "    distance = None\n",
    "    duration = None\n",
    "\n",
    "  return geometry, distance, duration\n",
    "\n",
    "def enhance_optimized_route(op, coords, ids):\n",
    "  output = {}\n",
    "  for k, v in op.items():\n",
    "    output[k] = {}\n",
    "    for k2, v2 in v.items():\n",
    "      time.sleep(2)\n",
    "      if len(return_coords(coords ,op[k]['route_plan'])) > 1:\n",
    "        api_response = call_api(coordinates=return_coords(coords, op[k]['route_plan']))\n",
    "        output[k]['route_geometry'] = api_response[0]\n",
    "        output[k]['route_distance'] = api_response[1]\n",
    "        output[k]['route_duration'] = api_response[2]\n",
    "      else:\n",
    "        output[k]['route_geometry'] = None\n",
    "        output[k]['route_distance'] = None\n",
    "        output[k]['route_duration'] = None\n",
    "\n",
    "      output[k]['route_plan'] = op[k]['route_plan']\n",
    "      output[k]['cumulative_route_load'] = op[k]['cumulative_route_load']\n",
    "      output[k]['route_distance'] = 0\n",
    "      output[k]['route_coords'] = return_coords(coords, op[k]['route_plan'])\n",
    "      output[k]['route_ids'] = return_ids(ids, op[k]['route_plan'])\n",
    "\n",
    "  return output"
   ]
  },
  {
   "cell_type": "code",
   "execution_count": 20,
   "metadata": {
    "id": "PHqZGS2DoXiE"
   },
   "outputs": [],
   "source": [
    "route_output = enhance_optimized_route(output, coordinates, id)"
   ]
  },
  {
   "cell_type": "code",
   "execution_count": null,
   "metadata": {},
   "outputs": [],
   "source": []
  },
  {
   "cell_type": "code",
   "execution_count": 21,
   "metadata": {
    "id": "VKiDw0cHqZK4"
   },
   "outputs": [],
   "source": [
    "route_output_df=pd.DataFrame.from_dict(route_output, orient='index')"
   ]
  },
  {
   "cell_type": "code",
   "execution_count": 22,
   "metadata": {
    "colab": {
     "base_uri": "https://localhost:8080/",
     "height": 143
    },
    "id": "BCsjw1yR0PXq",
    "outputId": "52983ee5-9f5f-47b8-a07f-4406e974a23a"
   },
   "outputs": [
    {
     "data": {
      "text/html": [
       "<div>\n",
       "<style scoped>\n",
       "    .dataframe tbody tr th:only-of-type {\n",
       "        vertical-align: middle;\n",
       "    }\n",
       "\n",
       "    .dataframe tbody tr th {\n",
       "        vertical-align: top;\n",
       "    }\n",
       "\n",
       "    .dataframe thead th {\n",
       "        text-align: right;\n",
       "    }\n",
       "</style>\n",
       "<table border=\"1\" class=\"dataframe\">\n",
       "  <thead>\n",
       "    <tr style=\"text-align: right;\">\n",
       "      <th></th>\n",
       "      <th>route_geometry</th>\n",
       "      <th>route_distance</th>\n",
       "      <th>route_duration</th>\n",
       "      <th>route_plan</th>\n",
       "      <th>cumulative_route_load</th>\n",
       "      <th>route_coords</th>\n",
       "      <th>route_ids</th>\n",
       "    </tr>\n",
       "  </thead>\n",
       "  <tbody>\n",
       "    <tr>\n",
       "      <th>0</th>\n",
       "      <td>skdwCqkaoI}@m@kCiBa@a@[e@?QH[pHqNGEyCwBsAeAmAq...</td>\n",
       "      <td>0</td>\n",
       "      <td>355.2</td>\n",
       "      <td>[0, 111, 110, 62, 35, 8, 51, 116, 48, 53, 25, ...</td>\n",
       "      <td>[0, 88, 114, 116, 159, 186, 210, 212, 225, 315...</td>\n",
       "      <td>[[55.06185223067843, 24.931690466392208], [54....</td>\n",
       "      <td>[0, 9075, 9031, 20221994, 17370, 11093, 20106,...</td>\n",
       "    </tr>\n",
       "    <tr>\n",
       "      <th>1</th>\n",
       "      <td>None</td>\n",
       "      <td>0</td>\n",
       "      <td>NaN</td>\n",
       "      <td>[0]</td>\n",
       "      <td>[0]</td>\n",
       "      <td>[[55.06185223067843, 24.931690466392208]]</td>\n",
       "      <td>[0]</td>\n",
       "    </tr>\n",
       "    <tr>\n",
       "      <th>2</th>\n",
       "      <td>skdwCqkaoI}@m@kCiBa@a@[e@?QH[pHqNGEyCwBsAeAmAq...</td>\n",
       "      <td>0</td>\n",
       "      <td>626.1</td>\n",
       "      <td>[0, 80, 82, 39, 72, 106, 57, 86, 75, 47, 63, 6...</td>\n",
       "      <td>[0, 1, 3, 3, 3, 4, 13, 15, 15, 17, 20, 22, 28,...</td>\n",
       "      <td>[[55.06185223067843, 24.931690466392208], [55....</td>\n",
       "      <td>[0, 3020, 3169, 17927, 20223098, 825, 20221695...</td>\n",
       "    </tr>\n",
       "    <tr>\n",
       "      <th>3</th>\n",
       "      <td>skdwCqkaoI}@m@kCiBa@a@[e@?QH[pHqNGEyCwBsAeAmAq...</td>\n",
       "      <td>0</td>\n",
       "      <td>108.7</td>\n",
       "      <td>[0, 78, 38, 90, 105, 61, 66, 16, 76, 20, 7, 24]</td>\n",
       "      <td>[0, 4, 8, 18, 20, 23, 29, 389, 391, 394, 398, ...</td>\n",
       "      <td>[[55.06185223067843, 24.931690466392208], [55....</td>\n",
       "      <td>[0, 2599, 17815, 472, 820, 20221909, 20222440,...</td>\n",
       "    </tr>\n",
       "  </tbody>\n",
       "</table>\n",
       "</div>"
      ],
      "text/plain": [
       "                                      route_geometry  route_distance  \\\n",
       "0  skdwCqkaoI}@m@kCiBa@a@[e@?QH[pHqNGEyCwBsAeAmAq...               0   \n",
       "1                                               None               0   \n",
       "2  skdwCqkaoI}@m@kCiBa@a@[e@?QH[pHqNGEyCwBsAeAmAq...               0   \n",
       "3  skdwCqkaoI}@m@kCiBa@a@[e@?QH[pHqNGEyCwBsAeAmAq...               0   \n",
       "\n",
       "   route_duration                                         route_plan  \\\n",
       "0           355.2  [0, 111, 110, 62, 35, 8, 51, 116, 48, 53, 25, ...   \n",
       "1             NaN                                                [0]   \n",
       "2           626.1  [0, 80, 82, 39, 72, 106, 57, 86, 75, 47, 63, 6...   \n",
       "3           108.7    [0, 78, 38, 90, 105, 61, 66, 16, 76, 20, 7, 24]   \n",
       "\n",
       "                               cumulative_route_load  \\\n",
       "0  [0, 88, 114, 116, 159, 186, 210, 212, 225, 315...   \n",
       "1                                                [0]   \n",
       "2  [0, 1, 3, 3, 3, 4, 13, 15, 15, 17, 20, 22, 28,...   \n",
       "3  [0, 4, 8, 18, 20, 23, 29, 389, 391, 394, 398, ...   \n",
       "\n",
       "                                        route_coords  \\\n",
       "0  [[55.06185223067843, 24.931690466392208], [54....   \n",
       "1          [[55.06185223067843, 24.931690466392208]]   \n",
       "2  [[55.06185223067843, 24.931690466392208], [55....   \n",
       "3  [[55.06185223067843, 24.931690466392208], [55....   \n",
       "\n",
       "                                           route_ids  \n",
       "0  [0, 9075, 9031, 20221994, 17370, 11093, 20106,...  \n",
       "1                                                [0]  \n",
       "2  [0, 3020, 3169, 17927, 20223098, 825, 20221695...  \n",
       "3  [0, 2599, 17815, 472, 820, 20221909, 20222440,...  "
      ]
     },
     "execution_count": 22,
     "metadata": {},
     "output_type": "execute_result"
    }
   ],
   "source": [
    "route_output_df[\n",
    "    [\n",
    "        'route_distance', 'route_duration', 'route_plan',\n",
    "        'cumulative_route_load', 'route_coords', 'route_ids'\n",
    "        ]\n",
    "    ].head(2)\n",
    "route_output_df.head()"
   ]
  },
  {
   "cell_type": "code",
   "execution_count": 23,
   "metadata": {},
   "outputs": [
    {
     "name": "stdout",
     "output_type": "stream",
     "text": [
      "None\n"
     ]
    }
   ],
   "source": [
    "route_output_df['route_coords'][1]\n",
    "print(route_output_df['route_geometry'][1])"
   ]
  },
  {
   "cell_type": "code",
   "execution_count": 24,
   "metadata": {},
   "outputs": [
    {
     "data": {
      "text/html": [
       "<div style=\"width:100%;\"><div style=\"position:relative;width:100%;height:0;padding-bottom:60%;\"><span style=\"color:#565656\">Make this Notebook Trusted to load map: File -> Trust Notebook</span><iframe srcdoc=\"&lt;!DOCTYPE html&gt;\n",
       "&lt;html&gt;\n",
       "&lt;head&gt;\n",
       "    \n",
       "    &lt;meta http-equiv=&quot;content-type&quot; content=&quot;text/html; charset=UTF-8&quot; /&gt;\n",
       "    \n",
       "        &lt;script&gt;\n",
       "            L_NO_TOUCH = false;\n",
       "            L_DISABLE_3D = false;\n",
       "        &lt;/script&gt;\n",
       "    \n",
       "    &lt;style&gt;html, body {width: 100%;height: 100%;margin: 0;padding: 0;}&lt;/style&gt;\n",
       "    &lt;style&gt;#map {position:absolute;top:0;bottom:0;right:0;left:0;}&lt;/style&gt;\n",
       "    &lt;script src=&quot;https://cdn.jsdelivr.net/npm/leaflet@1.9.3/dist/leaflet.js&quot;&gt;&lt;/script&gt;\n",
       "    &lt;script src=&quot;https://code.jquery.com/jquery-3.7.1.min.js&quot;&gt;&lt;/script&gt;\n",
       "    &lt;script src=&quot;https://cdn.jsdelivr.net/npm/bootstrap@5.2.2/dist/js/bootstrap.bundle.min.js&quot;&gt;&lt;/script&gt;\n",
       "    &lt;script src=&quot;https://cdnjs.cloudflare.com/ajax/libs/Leaflet.awesome-markers/2.0.2/leaflet.awesome-markers.js&quot;&gt;&lt;/script&gt;\n",
       "    &lt;link rel=&quot;stylesheet&quot; href=&quot;https://cdn.jsdelivr.net/npm/leaflet@1.9.3/dist/leaflet.css&quot;/&gt;\n",
       "    &lt;link rel=&quot;stylesheet&quot; href=&quot;https://cdn.jsdelivr.net/npm/bootstrap@5.2.2/dist/css/bootstrap.min.css&quot;/&gt;\n",
       "    &lt;link rel=&quot;stylesheet&quot; href=&quot;https://netdna.bootstrapcdn.com/bootstrap/3.0.0/css/bootstrap.min.css&quot;/&gt;\n",
       "    &lt;link rel=&quot;stylesheet&quot; href=&quot;https://cdn.jsdelivr.net/npm/@fortawesome/fontawesome-free@6.2.0/css/all.min.css&quot;/&gt;\n",
       "    &lt;link rel=&quot;stylesheet&quot; href=&quot;https://cdnjs.cloudflare.com/ajax/libs/Leaflet.awesome-markers/2.0.2/leaflet.awesome-markers.css&quot;/&gt;\n",
       "    &lt;link rel=&quot;stylesheet&quot; href=&quot;https://cdn.jsdelivr.net/gh/python-visualization/folium/folium/templates/leaflet.awesome.rotate.min.css&quot;/&gt;\n",
       "    \n",
       "            &lt;meta name=&quot;viewport&quot; content=&quot;width=device-width,\n",
       "                initial-scale=1.0, maximum-scale=1.0, user-scalable=no&quot; /&gt;\n",
       "            &lt;style&gt;\n",
       "                #map_c99081be7d38267bf718e423a15b111a {\n",
       "                    position: relative;\n",
       "                    width: 100.0%;\n",
       "                    height: 100.0%;\n",
       "                    left: 0.0%;\n",
       "                    top: 0.0%;\n",
       "                }\n",
       "                .leaflet-container { font-size: 1rem; }\n",
       "            &lt;/style&gt;\n",
       "        \n",
       "&lt;/head&gt;\n",
       "&lt;body&gt;\n",
       "    \n",
       "    \n",
       "            &lt;div class=&quot;folium-map&quot; id=&quot;map_c99081be7d38267bf718e423a15b111a&quot; &gt;&lt;/div&gt;\n",
       "        \n",
       "&lt;/body&gt;\n",
       "&lt;script&gt;\n",
       "    \n",
       "    \n",
       "            var map_c99081be7d38267bf718e423a15b111a = L.map(\n",
       "                &quot;map_c99081be7d38267bf718e423a15b111a&quot;,\n",
       "                {\n",
       "                    center: [24.931690466392208, 55.06185223067843],\n",
       "                    crs: L.CRS.EPSG3857,\n",
       "                    zoom: 12,\n",
       "                    zoomControl: true,\n",
       "                    preferCanvas: false,\n",
       "                }\n",
       "            );\n",
       "\n",
       "            \n",
       "\n",
       "        \n",
       "    \n",
       "            var tile_layer_775be6153a3fdb469dda264beb56152e = L.tileLayer(\n",
       "                &quot;https://{s}.basemaps.cartocdn.com/light_all/{z}/{x}/{y}{r}.png&quot;,\n",
       "                {&quot;attribution&quot;: &quot;\\u0026copy; \\u003ca href=\\&quot;https://www.openstreetmap.org/copyright\\&quot;\\u003eOpenStreetMap\\u003c/a\\u003e contributors \\u0026copy; \\u003ca href=\\&quot;https://carto.com/attributions\\&quot;\\u003eCARTO\\u003c/a\\u003e&quot;, &quot;detectRetina&quot;: false, &quot;maxNativeZoom&quot;: 20, &quot;maxZoom&quot;: 20, &quot;minZoom&quot;: 0, &quot;noWrap&quot;: false, &quot;opacity&quot;: 1, &quot;subdomains&quot;: &quot;abcd&quot;, &quot;tms&quot;: false}\n",
       "            );\n",
       "        \n",
       "    \n",
       "            tile_layer_775be6153a3fdb469dda264beb56152e.addTo(map_c99081be7d38267bf718e423a15b111a);\n",
       "        \n",
       "    \n",
       "\n",
       "        function geo_json_26d3c3786202463291b1547b49fb6767_onEachFeature(feature, layer) {\n",
       "            layer.on({\n",
       "            });\n",
       "        };\n",
       "        var geo_json_26d3c3786202463291b1547b49fb6767 = L.geoJson(null, {\n",
       "                onEachFeature: geo_json_26d3c3786202463291b1547b49fb6767_onEachFeature,\n",
       "            \n",
       "        });\n",
       "\n",
       "        function geo_json_26d3c3786202463291b1547b49fb6767_add (data) {\n",
       "            geo_json_26d3c3786202463291b1547b49fb6767\n",
       "                .addData(data);\n",
       "        }\n",
       "            geo_json_26d3c3786202463291b1547b49fb6767_add({&quot;coordinates&quot;: [[55.06249, 24.9313], [55.06272, 24.93161], [55.06325, 24.93231], [55.06342, 24.93248], [55.06361, 24.93262], [55.0637, 24.93262], [55.06384, 24.93257], [55.06633, 24.93104], [55.06636, 24.93108], [55.06696, 24.93185], [55.06731, 24.93227], [55.06772, 24.93266], [55.06814, 24.93299], [55.06855, 24.93327], [55.06895, 24.93351], [55.07103, 24.93448], [55.07148, 24.93471], [55.07238, 24.93518], [55.07319, 24.93563], [55.07325, 24.93564], [55.07356, 24.93581], [55.07382, 24.93594], [55.07404, 24.93602], [55.075, 24.93629], [55.07533, 24.93639], [55.07564, 24.93651], [55.07597, 24.93654], [55.07617, 24.93649], [55.07627, 24.9365], [55.07647, 24.93656], [55.07656, 24.93661], [55.07664, 24.93668], [55.0767, 24.93677], [55.07674, 24.93686], [55.07676, 24.93695], [55.07675, 24.93711], [55.07672, 24.93721], [55.07667, 24.93729], [55.0766, 24.93737], [55.07652, 24.93743], [55.07642, 24.93748], [55.07629, 24.93751], [55.07615, 24.93752], [55.07602, 24.93749], [55.07573, 24.93749], [55.07562, 24.93751], [55.07551, 24.93756], [55.07413, 24.93843], [55.0715, 24.94008], [55.06887, 24.94171], [55.06868, 24.94187], [55.06826, 24.94216], [55.06787, 24.94246], [55.06757, 24.94272], [55.06738, 24.94291], [55.06712, 24.94323], [55.0669, 24.94357], [55.06678, 24.9438], [55.06665, 24.94415], [55.06657, 24.94457], [55.06653, 24.94512], [55.06655, 24.94613], [55.06657, 24.94644], [55.06663, 24.94675], [55.06675, 24.94715], [55.06696, 24.94758], [55.06712, 24.94785], [55.0674, 24.94819], [55.0679, 24.94861], [55.06823, 24.94883], [55.06896, 24.94924], [55.06899, 24.94929], [55.06992, 24.94976], [55.07097, 24.95037], [55.07125, 24.95054], [55.07218, 24.95112], [55.07298, 24.95166], [55.0733, 24.95191], [55.07377, 24.95231], [55.07384, 24.95239], [55.07395, 24.95255], [55.07548, 24.95383], [55.07585, 24.95417], [55.07697, 24.95527], [55.0777, 24.95606], [55.07835, 24.95682], [55.07904, 24.95769], [55.07988, 24.9588], [55.08112, 24.96079], [55.08333, 24.96451], [55.08426, 24.96598], [55.08577, 24.96868], [55.08722, 24.97104], [55.08798, 24.97232], [55.08891, 24.97393], [55.08982, 24.97573], [55.09043, 24.97712], [55.09102, 24.97865], [55.09135, 24.97957], [55.09165, 24.9805], [55.09193, 24.98145], [55.09228, 24.98283], [55.09246, 24.98374], [55.09307, 24.98707], [55.09362, 24.99046], [55.09405, 24.99336], [55.09521, 25.00032], [55.09633, 25.00712], [55.09721, 25.01262], [55.09802, 25.01739], [55.09826, 25.0187], [55.09848, 25.0198], [55.09858, 25.02019], [55.09872, 25.02076], [55.09906, 25.0219], [55.09936, 25.02284], [55.09976, 25.02394], [55.10006, 25.02467], [55.10066, 25.02605], [55.10103, 25.0268], [55.10144, 25.02755], [55.10153, 25.02771], [55.10161, 25.02787], [55.10249, 25.02941], [55.10334, 25.03073], [55.10433, 25.03212], [55.10486, 25.03282], [55.1057, 25.03384], [55.10856, 25.03711], [55.11119, 25.04014], [55.11462, 25.044], [55.11727, 25.04703], [55.12156, 25.05188], [55.12307, 25.0536], [55.12491, 25.05572], [55.12876, 25.06007], [55.13225, 25.06405], [55.13394, 25.06589], [55.13533, 25.06747], [55.13851, 25.07114], [55.13996, 25.07275], [55.14094, 25.07385], [55.14185, 25.07491], [55.14317, 25.07635], [55.14402, 25.07721], [55.1449, 25.07804], [55.14579, 25.07886], [55.14673, 25.07963], [55.14708, 25.07992], [55.15312, 25.08498], [55.15536, 25.08688], [55.15683, 25.08819], [55.15966, 25.09057], [55.1613, 25.09197], [55.16232, 25.09283], [55.1633, 25.09369], [55.16455, 25.09473], [55.16531, 25.09543], [55.16982, 25.09924], [55.1729, 25.10183], [55.17422, 25.10299], [55.17632, 25.10476], [55.17704, 25.10534], [55.17778, 25.10589], [55.17911, 25.10685], [55.18457, 25.11069], [55.18805, 25.11315], [55.18893, 25.11376], [55.19029, 25.11471], [55.19176, 25.11568], [55.1919, 25.11577], [55.19379, 25.11709], [55.19949, 25.12111], [55.20427, 25.1245], [55.20742, 25.1267], [55.20907, 25.12783], [55.20989, 25.12846], [55.21029, 25.12879], [55.21106, 25.12947], [55.21179, 25.13018], [55.21271, 25.13125], [55.21317, 25.13184], [55.21361, 25.13245], [55.21381, 25.13275], [55.217, 25.13781], [55.21916, 25.1413], [55.22119, 25.14456], [55.22167, 25.14538], [55.22422, 25.14942], [55.22696, 25.15382], [55.22802, 25.15545], [55.22915, 25.15724], [55.23087, 25.15959], [55.23127, 25.16012], [55.23173, 25.16066], [55.23348, 25.16258], [55.23836, 25.16787], [55.24021, 25.16983], [55.24234, 25.17221], [55.24322, 25.17314], [55.24631, 25.17651], [55.24954, 25.18005], [55.25192, 25.18261], [55.25303, 25.18376], [55.25536, 25.18629], [55.25753, 25.18864], [55.26038, 25.19177], [55.26192, 25.19342], [55.262, 25.1935], [55.26422, 25.19592], [55.26465, 25.19622], [55.26559, 25.19715], [55.26604, 25.19765], [55.26648, 25.19816], [55.26703, 25.19888], [55.26788, 25.20003], [55.26851, 25.20091], [55.26856, 25.20104], [55.26899, 25.20169], [55.26977, 25.20284], [55.26992, 25.203], [55.2701, 25.20313], [55.27031, 25.20322], [55.27052, 25.20326], [55.27102, 25.2033], [55.27121, 25.20334], [55.27139, 25.2034], [55.27156, 25.20348], [55.27172, 25.20357], [55.27194, 25.20375], [55.27205, 25.20389], [55.27214, 25.20404], [55.2722, 25.2042], [55.27222, 25.20438], [55.27221, 25.20455], [55.27217, 25.20473], [55.2721, 25.20489], [55.27201, 25.20505], [55.27188, 25.20518], [55.27174, 25.2053], [55.27157, 25.20539], [55.2714, 25.20545], [55.27111, 25.20549], [55.27025, 25.20552], [55.26999, 25.20557], [55.26976, 25.20566], [55.26901, 25.20599], [55.26797, 25.20643], [55.26764, 25.20655], [55.26726, 25.20675], [55.26705, 25.20685], [55.26636, 25.20725], [55.2662, 25.20727], [55.26602, 25.20733], [55.2654, 25.20765], [55.26529, 25.20769], [55.26537, 25.20781], [55.26524, 25.20787], [55.26519, 25.2079], [55.26515, 25.20792], [55.26499, 25.20802], [55.26465, 25.20819], [55.26333, 25.20888], [55.26291, 25.20911], [55.26237, 25.2094], [55.26203, 25.2096], [55.26194, 25.20972], [55.26188, 25.20977], [55.26146, 25.21], [55.26143, 25.21004], [55.2614, 25.21013], [55.26145, 25.21029], [55.26187, 25.21094], [55.262, 25.21112], [55.26322, 25.21278], [55.26405, 25.21391], [55.26417, 25.21407], [55.2643, 25.21424], [55.26452, 25.21454], [55.26492, 25.2151], [55.26504, 25.21524], [55.26619, 25.21676], [55.26635, 25.21697], [55.26695, 25.21778], [55.26724, 25.21823], [55.26798, 25.21921], [55.26811, 25.21934], [55.2685, 25.21984], [55.26854, 25.21992], [55.26872, 25.22015], [55.26881, 25.22026], [55.27055, 25.22259], [55.27069, 25.22279], [55.27081, 25.22294], [55.27169, 25.22413], [55.27177, 25.22424], [55.27184, 25.22432], [55.27191, 25.22442], [55.27211, 25.2247], [55.27219, 25.2248], [55.27225, 25.22496], [55.27243, 25.22521], [55.27241, 25.22526], [55.27232, 25.2253], [55.27188, 25.22557], [55.27216, 25.22596], [55.27221, 25.22603], [55.2724, 25.22628], [55.27249, 25.22641], [55.27264, 25.22661], [55.27284, 25.22688], [55.27285, 25.22693], [55.27282, 25.22698], [55.27249, 25.22719], [55.27277, 25.22755], [55.27232, 25.22783], [55.27281, 25.22853], [55.27299, 25.22878], [55.27294, 25.22881], [55.27316, 25.22911], [55.27341, 25.22945], [55.27348, 25.22941], [55.27396, 25.23005], [55.27435, 25.2298], [55.27456, 25.22967], [55.27435, 25.2298], [55.27396, 25.23005], [55.27348, 25.22941], [55.27341, 25.22945], [55.27226, 25.2302], [55.27202, 25.23034], [55.27178, 25.23045], [55.27159, 25.23056], [55.27107, 25.23076], [55.27087, 25.23084], [55.26999, 25.2312], [55.26994, 25.23122], [55.26972, 25.23131], [55.26959, 25.23136], [55.2695, 25.23138], [55.26909, 25.23154], [55.26896, 25.23155], [55.26914, 25.23191], [55.26924, 25.23213], [55.2694, 25.23245], [55.26948, 25.23259], [55.27017, 25.23396], [55.27064, 25.23499], [55.27082, 25.2353], [55.27093, 25.23556], [55.27102, 25.23574], [55.27124, 25.23624], [55.27153, 25.23679], [55.27164, 25.23701], [55.27181, 25.23737], [55.27205, 25.23785], [55.27212, 25.23805], [55.27219, 25.23821], [55.2725, 25.23871], [55.27255, 25.23879], [55.27257, 25.23885], [55.27258, 25.23892], [55.27263, 25.23891], [55.27273, 25.23891], [55.2728, 25.23901], [55.27306, 25.23936], [55.2732, 25.2395], [55.2735, 25.23978], [55.27424, 25.2403], [55.27461, 25.24058], [55.275, 25.24092], [55.27533, 25.24128], [55.27551, 25.2415], [55.27578, 25.24193], [55.27652, 25.24333], [55.27696, 25.24413], [55.27708, 25.24435], [55.2771, 25.24438], [55.27725, 25.24464], [55.27744, 25.24502], [55.27805, 25.24617], [55.27835, 25.24672], [55.27858, 25.24712], [55.27901, 25.24776], [55.27951, 25.24846], [55.27976, 25.24878], [55.27997, 25.24902], [55.28019, 25.24917], [55.28035, 25.24925], [55.28052, 25.24931], [55.28062, 25.24933], [55.28074, 25.24941], [55.28082, 25.24951], [55.28086, 25.24962], [55.28087, 25.24968], [55.28085, 25.24975], [55.28082, 25.24984], [55.28075, 25.24999], [55.28073, 25.25013], [55.28074, 25.25035], [55.28084, 25.25095], [55.28088, 25.25116], [55.28095, 25.25136], [55.28112, 25.25168], [55.28233, 25.25321], [55.28256, 25.25343], [55.28293, 25.25373], [55.28316, 25.25395], [55.28324, 25.25404], [55.28337, 25.25411], [55.28363, 25.25435], [55.28368, 25.25436], [55.28373, 25.25435], [55.2838, 25.25431], [55.28385, 25.25426], [55.28385, 25.2542], [55.2839, 25.25411], [55.28393, 25.25409], [55.284, 25.25407], [55.2841, 25.2541], [55.28417, 25.25417], [55.28418, 25.25422], [55.28416, 25.25429], [55.28411, 25.25434], [55.2841, 25.25439], [55.28411, 25.25449], [55.28471, 25.25544], [55.28505, 25.25627], [55.28513, 25.25651], [55.28519, 25.25677], [55.28525, 25.25731], [55.28537, 25.25738], [55.28546, 25.25741], [55.28583, 25.2574], [55.28627, 25.25737], [55.28663, 25.25734], [55.28716, 25.25729], [55.28806, 25.25722], [55.28944, 25.25711], [55.28947, 25.25711], [55.28995, 25.25708], [55.29044, 25.25705], [55.29117, 25.257], [55.29044, 25.25705], [55.29044, 25.25761], [55.29045, 25.25807], [55.29045, 25.25846], [55.29047, 25.25916], [55.2905, 25.25923], [55.29055, 25.25928], [55.2915, 25.25937], [55.2919, 25.25939], [55.29235, 25.25943], [55.29404, 25.25961], [55.29423, 25.25961], [55.29465, 25.25955], [55.29472, 25.25952], [55.29482, 25.25956], [55.29487, 25.25961], [55.29497, 25.25969], [55.29489, 25.25971], [55.2945, 25.25981], [55.29426, 25.25983], [55.29403, 25.25983], [55.29381, 25.25981], [55.29318, 25.25972], [55.29308, 25.25977], [55.29304, 25.25983], [55.29291, 25.26049], [55.2929, 25.26057], [55.29286, 25.26074], [55.29275, 25.26118], [55.29263, 25.26122], [55.29184, 25.2613], [55.29174, 25.26128], [55.2916, 25.26079], [55.29148, 25.26041], [55.29142, 25.26038], [55.29136, 25.26038], [55.29078, 25.2604], [55.28989, 25.26043], [55.28982, 25.26045], [55.28978, 25.26049], [55.28982, 25.26091], [55.28989, 25.26161], [55.2899, 25.26175], [55.28991, 25.26186], [55.29, 25.26192], [55.29007, 25.26193], [55.29168, 25.2621], [55.29177, 25.2621], [55.29186, 25.26207], [55.29185, 25.26175], [55.29174, 25.26128], [55.2916, 25.26079], [55.29148, 25.26041], [55.29129, 25.25967], [55.29132, 25.25957], [55.2914, 25.25946], [55.2915, 25.25937], [55.2919, 25.25939], [55.29235, 25.25943], [55.29404, 25.25961], [55.29423, 25.25961], [55.29465, 25.25955], [55.29472, 25.25952], [55.29482, 25.25956], [55.29487, 25.25961], [55.29497, 25.25969], [55.29489, 25.25971], [55.2945, 25.25981], [55.29426, 25.25983], [55.29403, 25.25983], [55.29381, 25.25981], [55.29318, 25.25972], [55.29308, 25.25977], [55.29304, 25.25983], [55.29291, 25.26049], [55.2929, 25.26057], [55.29286, 25.26074], [55.29275, 25.26118], [55.29269, 25.26152], [55.29268, 25.26164], [55.29273, 25.26167], [55.2928, 25.26169], [55.29402, 25.26169], [55.29404, 25.26169], [55.29396, 25.26139], [55.29383, 25.26108], [55.29395, 25.26109], [55.29429, 25.26108], [55.29433, 25.26103], [55.29433, 25.26091], [55.29432, 25.26053], [55.29302, 25.26055], [55.2929, 25.26057], [55.29286, 25.26074], [55.29275, 25.26118], [55.29269, 25.26152], [55.29268, 25.26164], [55.29263, 25.26198], [55.29262, 25.26213], [55.2926, 25.26243], [55.29263, 25.26252], [55.29274, 25.26261], [55.29383, 25.26267], [55.29408, 25.26267], [55.29438, 25.26268], [55.29441, 25.26268], [55.29464, 25.26267], [55.2956, 25.26252], [55.29596, 25.26251], [55.29631, 25.26253], [55.29637, 25.26253], [55.29646, 25.26255], [55.29665, 25.26259], [55.29701, 25.26265], [55.29708, 25.26266], [55.29729, 25.26269], [55.2975, 25.26281], [55.29756, 25.26287], [55.29761, 25.26295], [55.2975, 25.26379], [55.29749, 25.26383], [55.29746, 25.26399], [55.29742, 25.26409], [55.29734, 25.26414], [55.29719, 25.26414], [55.29706, 25.26414], [55.29668, 25.26413], [55.29644, 25.26409], [55.29531, 25.26383], [55.29471, 25.2637], [55.29377, 25.26348], [55.29372, 25.26349], [55.29368, 25.26353], [55.29356, 25.2641], [55.29341, 25.26448], [55.29335, 25.26452], [55.29323, 25.26452], [55.29283, 25.26444], [55.29256, 25.26439], [55.29233, 25.26438], [55.29197, 25.26437], [55.29149, 25.26437], [55.29122, 25.26437], [55.29104, 25.26436], [55.29036, 25.26436], [55.29029, 25.26436], [55.28992, 25.26439], [55.28986, 25.26442], [55.2898, 25.26447], [55.28975, 25.26452], [55.28963, 25.26464], [55.28958, 25.26465], [55.28951, 25.26464], [55.28926, 25.26448], [55.28898, 25.26429], [55.28869, 25.2641], [55.28854, 25.26428], [55.28816, 25.26492], [55.28765, 25.26562], [55.28746, 25.26588], [55.28742, 25.26601], [55.28745, 25.26614], [55.28766, 25.26655], [55.28806, 25.26712], [55.28822, 25.26745], [55.28859, 25.26801], [55.28989, 25.26992], [55.29008, 25.27018], [55.29035, 25.27047], [55.29049, 25.27061], [55.29079, 25.27083], [55.29107, 25.27102], [55.29137, 25.2712], [55.2917, 25.27137], [55.29205, 25.27153], [55.29762, 25.27361], [55.30011, 25.27454], [55.30024, 25.27458], [55.30044, 25.27466], [55.30136, 25.275], [55.30221, 25.27536], [55.30255, 25.2755], [55.30302, 25.27573], [55.30391, 25.27623], [55.30426, 25.27641], [55.30485, 25.27674], [55.30501, 25.27647], [55.30544, 25.2758], [55.30581, 25.27523], [55.3059, 25.27505], [55.30602, 25.27474], [55.30612, 25.27436], [55.30629, 25.27386], [55.30629, 25.27375], [55.30624, 25.27355], [55.3062, 25.27345], [55.30607, 25.27328], [55.30547, 25.27297], [55.30507, 25.27278], [55.30495, 25.27272], [55.30447, 25.27249], [55.30278, 25.27169], [55.30267, 25.27163], [55.30237, 25.2715], [55.30236, 25.27176], [55.30234, 25.27197], [55.3023, 25.2722], [55.30225, 25.27248], [55.30221, 25.27262], [55.30215, 25.27306], [55.30216, 25.27312], [55.3022, 25.27316], [55.30225, 25.2732], [55.30312, 25.27347], [55.30349, 25.27359], [55.30367, 25.27365], [55.30416, 25.27378], [55.30469, 25.27392], [55.30492, 25.27399], [55.30549, 25.27421], [55.30596, 25.27441], [55.30607, 25.27439], [55.30612, 25.27436], [55.30629, 25.27386], [55.30629, 25.27375], [55.30624, 25.27355], [55.3062, 25.27345], [55.30607, 25.27328], [55.30547, 25.27297], [55.30507, 25.27278], [55.30495, 25.27272], [55.30447, 25.27249], [55.30278, 25.27169], [55.30267, 25.27163], [55.30237, 25.2715], [55.30208, 25.27137], [55.30073, 25.27085], [55.30054, 25.27078], [55.30045, 25.27093], [55.30036, 25.2711], [55.3002, 25.27163], [55.29996, 25.27221], [55.29993, 25.27229], [55.29996, 25.27237], [55.29999, 25.2724], [55.30041, 25.27259], [55.30115, 25.27288], [55.30116, 25.27296], [55.30115, 25.27304], [55.301, 25.27347], [55.3011, 25.27356], [55.30154, 25.27377], [55.30188, 25.27394], [55.30192, 25.27398], [55.30197, 25.27406], [55.30189, 25.27448], [55.30182, 25.27467], [55.30173, 25.27486], [55.30173, 25.27498], [55.30181, 25.27502], [55.30255, 25.2755], [55.30302, 25.27573], [55.30391, 25.27623], [55.30406, 25.27638], [55.30422, 25.2765], [55.30479, 25.27684], [55.30488, 25.27689], [55.30482, 25.27699], [55.30472, 25.27694], [55.30378, 25.2764], [55.30292, 25.27588], [55.30215, 25.27548], [55.30187, 25.27535], [55.30158, 25.27521], [55.3004, 25.27475], [55.30015, 25.27466], [55.29975, 25.27451], [55.29792, 25.27383], [55.29242, 25.27177], [55.29196, 25.2716], [55.29152, 25.2714], [55.29098, 25.27113], [55.29057, 25.27085], [55.29044, 25.27079], [55.28994, 25.2705], [55.28929, 25.27019], [55.28916, 25.2701], [55.28892, 25.26992], [55.28871, 25.26971], [55.28855, 25.26947], [55.28825, 25.26886], [55.28811, 25.26864], [55.28689, 25.26685], [55.28671, 25.26653], [55.2865, 25.26608], [55.28635, 25.26584], [55.28622, 25.26559], [55.28607, 25.26524], [55.28596, 25.26493], [55.28581, 25.26461], [55.28462, 25.26284], [55.28445, 25.26255], [55.28432, 25.26225], [55.28421, 25.26195], [55.28417, 25.2618], [55.28403, 25.26111], [55.28395, 25.2608], [55.28407, 25.26067], [55.28414, 25.26062], [55.28427, 25.26057], [55.28451, 25.26053], [55.2847, 25.26051], [55.28483, 25.2605], [55.28505, 25.26047], [55.28529, 25.26039], [55.28597, 25.26011], [55.28641, 25.25994], [55.28682, 25.25978], [55.28762, 25.25948], [55.28794, 25.25939], [55.28843, 25.25929], [55.28893, 25.25922], [55.28951, 25.25919], [55.28963, 25.25927], [55.28968, 25.25933], [55.28971, 25.25945], [55.28972, 25.25978], [55.28977, 25.26044], [55.28978, 25.26049], [55.28982, 25.2609], [55.28982, 25.26091], [55.28989, 25.26161], [55.2899, 25.26175], [55.28988, 25.26178], [55.28982, 25.26184], [55.28975, 25.26186], [55.28968, 25.26186], [55.28852, 25.26152], [55.28848, 25.26142], [55.28853, 25.26123], [55.28859, 25.26105], [55.28864, 25.26075], [55.2886, 25.26009], [55.28856, 25.25961], [55.28852, 25.25953], [55.28844, 25.25946], [55.28815, 25.2595], [55.28794, 25.25955], [55.28732, 25.25981], [55.2852, 25.2607], [55.28512, 25.26075], [55.28502, 25.26078], [55.2849, 25.26084], [55.28483, 25.26084], [55.28476, 25.26082], [55.2847, 25.26074], [55.28469, 25.26064], [55.28475, 25.26054], [55.28483, 25.2605], [55.28505, 25.26047], [55.28529, 25.26039], [55.28597, 25.26011], [55.28641, 25.25994], [55.28682, 25.25978], [55.28697, 25.25957], [55.287, 25.25948], [55.28687, 25.25885], [55.2868, 25.25861], [55.28675, 25.25845], [55.28668, 25.25824], [55.28665, 25.25816], [55.28669, 25.25808], [55.28671, 25.25807], [55.28676, 25.25803], [55.28681, 25.25802], [55.28799, 25.25795], [55.28807, 25.25795], [55.28815, 25.25798], [55.28818, 25.25837], [55.28819, 25.25845], [55.28827, 25.25912], [55.28831, 25.25921], [55.28834, 25.25924], [55.28843, 25.25929], [55.28893, 25.25922], [55.28951, 25.25919], [55.28983, 25.25921], [55.29055, 25.25928], [55.2915, 25.25937], [55.2919, 25.25939], [55.29235, 25.25943], [55.29404, 25.25961], [55.29423, 25.25961], [55.29465, 25.25955], [55.29472, 25.25952], [55.29491, 25.25944], [55.29519, 25.25932], [55.29585, 25.25902], [55.29623, 25.25883], [55.29633, 25.25884], [55.29642, 25.25881], [55.29745, 25.25825], [55.29754, 25.25825], [55.29757, 25.25825], [55.29757, 25.25823], [55.29756, 25.25809], [55.29783, 25.25795], [55.29806, 25.25784], [55.29823, 25.25775], [55.29901, 25.25734], [55.30081, 25.25645], [55.30088, 25.25641], [55.3011, 25.25629], [55.3018, 25.25595], [55.30264, 25.25554], [55.30347, 25.25514], [55.30363, 25.25507], [55.30379, 25.2549], [55.30388, 25.25476], [55.30393, 25.25462], [55.30392, 25.25441], [55.30376, 25.25413], [55.30349, 25.25366], [55.30278, 25.25249], [55.30221, 25.25156], [55.30174, 25.25077], [55.30163, 25.25058], [55.30141, 25.25022], [55.3012, 25.24987], [55.30066, 25.24895], [55.30036, 25.24845], [55.30018, 25.2481], [55.29978, 25.24745], [55.29951, 25.247], [55.29946, 25.24689], [55.29929, 25.24656], [55.29872, 25.24558], [55.29824, 25.24474], [55.29818, 25.24465], [55.29792, 25.24424], [55.29782, 25.24408], [55.29766, 25.24376], [55.29736, 25.24324], [55.29643, 25.24168], [55.29611, 25.24119], [55.29568, 25.24045], [55.29499, 25.23922], [55.29347, 25.23653], [55.29305, 25.2358], [55.29302, 25.23575], [55.29292, 25.23568], [55.29215, 25.23425], [55.29211, 25.23412], [55.29041, 25.23122], [55.29021, 25.23093], [55.28994, 25.23057], [55.28949, 25.23017], [55.28902, 25.2298], [55.28827, 25.2293], [55.28771, 25.22896], [55.28758, 25.22884], [55.28747, 25.22871], [55.28728, 25.22859], [55.28693, 25.22831], [55.28644, 25.22784], [55.28602, 25.22733], [55.28514, 25.22608], [55.28258, 25.22233], [55.28193, 25.22135], [55.27914, 25.21728], [55.27811, 25.21581], [55.27584, 25.21253], [55.27453, 25.2106], [55.27327, 25.20868], [55.27092, 25.20523], [55.26835, 25.20155], [55.2676, 25.20049], [55.26665, 25.19919], [55.26593, 25.19829], [55.26526, 25.1975], [55.26457, 25.19672], [55.26206, 25.19399], [55.26191, 25.19383], [55.26102, 25.19287], [55.25757, 25.18915], [55.25728, 25.18884], [55.25316, 25.18438], [55.25277, 25.18393], [55.24606, 25.17669], [55.2413, 25.17151], [55.24046, 25.17054], [55.23173, 25.16108], [55.22965, 25.15853], [55.2293, 25.15804], [55.22886, 25.1574], [55.2276, 25.15536], [55.21854, 25.14085], [55.21614, 25.13701], [55.21356, 25.13288], [55.21317, 25.13233], [55.21275, 25.13179], [55.21215, 25.13107], [55.21187, 25.13075], [55.21157, 25.13043], [55.21096, 25.12982], [55.21032, 25.12923], [55.20999, 25.12895], [55.20931, 25.1284], [55.20888, 25.12808], [55.19585, 25.11888], [55.19325, 25.11706], [55.19274, 25.11671], [55.19261, 25.11662], [55.18984, 25.11474], [55.18779, 25.1133], [55.18515, 25.11142], [55.18115, 25.10861], [55.17711, 25.10572], [55.17531, 25.10428], [55.16715, 25.09734], [55.16623, 25.09658], [55.16465, 25.09526], [55.16399, 25.09464], [55.163, 25.09382], [55.16276, 25.09358], [55.16251, 25.09334], [55.16033, 25.09149], [55.15814, 25.08967], [55.15429, 25.08637], [55.15187, 25.08432], [55.14817, 25.08123], [55.14557, 25.07905], [55.14385, 25.07744], [55.14242, 25.07598], [55.14068, 25.07403], [55.13768, 25.07063], [55.13664, 25.0694], [55.13517, 25.0677], [55.12986, 25.06176], [55.12859, 25.06036], [55.12654, 25.05801], [55.12458, 25.05578], [55.12217, 25.05298], [55.11989, 25.05044], [55.11711, 25.04726], [55.11525, 25.04517], [55.1137, 25.04343], [55.11312, 25.04273], [55.11099, 25.04028], [55.10813, 25.03707], [55.10599, 25.03463], [55.10518, 25.03369], [55.10479, 25.0332], [55.10441, 25.03272], [55.10367, 25.03172], [55.10331, 25.03122], [55.10263, 25.03019], [55.10198, 25.02915], [55.10139, 25.02813], [55.10128, 25.02793], [55.10075, 25.02686], [55.10032, 25.02598], [55.10006, 25.02541], [55.09958, 25.02425], [55.09936, 25.02367], [55.0988, 25.02204], [55.09841, 25.02069], [55.0982, 25.01984], [55.09797, 25.01866], [55.09764, 25.01672], [55.09723, 25.01446], [55.09696, 25.01287], [55.09628, 25.00868], [55.09558, 25.0045], [55.09531, 25.00301], [55.09491, 25.0005], [55.09481, 25.00035], [55.09476, 25.00025], [55.09467, 24.99994], [55.09442, 24.99881], [55.09401, 24.99654], [55.094, 24.99619], [55.09396, 24.99584], [55.09339, 24.99234], [55.09315, 24.99146], [55.09306, 24.99124], [55.09288, 24.99094], [55.09237, 24.99029], [55.09157, 24.9893], [55.09132, 24.98891], [55.09123, 24.98881], [55.09111, 24.98875], [55.09098, 24.98873], [55.09056, 24.98877], [55.09021, 24.98877], [55.08959, 24.98881], [55.08908, 24.98888], [55.08903, 24.98889], [55.08887, 24.98892], [55.08852, 24.98899], [55.0883, 24.98903], [55.08822, 24.98905], [55.08782, 24.98914], [55.08723, 24.98933], [55.08698, 24.98939], [55.08684, 24.98941], [55.08671, 24.98939], [55.08658, 24.98936], [55.08635, 24.98925], [55.086, 24.98894], [55.08519, 24.98822], [55.0841, 24.98721], [55.08392, 24.98701], [55.08343, 24.98658], [55.08303, 24.98626], [55.08096, 24.98444], [55.08088, 24.98432], [55.08067, 24.98411], [55.08066, 24.98407], [55.08069, 24.98403]], &quot;type&quot;: &quot;LineString&quot;});\n",
       "\n",
       "        \n",
       "    \n",
       "            geo_json_26d3c3786202463291b1547b49fb6767.addTo(map_c99081be7d38267bf718e423a15b111a);\n",
       "        \n",
       "&lt;/script&gt;\n",
       "&lt;/html&gt;\" style=\"position:absolute;width:100%;height:100%;left:0;top:0;border:none !important;\" allowfullscreen webkitallowfullscreen mozallowfullscreen></iframe></div></div>"
      ],
      "text/plain": [
       "<folium.folium.Map at 0x1d5b0fecd40>"
      ]
     },
     "execution_count": 24,
     "metadata": {},
     "output_type": "execute_result"
    }
   ],
   "source": [
    "from openrouteservice import convert\n",
    "decoded = convert.decode_polyline(route_output_df['route_geometry'][3])\n",
    "m = folium.Map(location=start, tiles=\"Cartodb Positron\", zoom_start=12)\n",
    "folium.GeoJson(decoded).add_to(m)\n",
    "m"
   ]
  },
  {
   "cell_type": "code",
   "execution_count": 25,
   "metadata": {},
   "outputs": [
    {
     "name": "stdout",
     "output_type": "stream",
     "text": [
      "{'type': 'LineString', 'coordinates': [[55.06249, 24.9313], [55.06272, 24.93161], [55.06325, 24.93231], [55.06342, 24.93248], [55.06361, 24.93262], [55.0637, 24.93262], [55.06384, 24.93257], [55.06633, 24.93104], [55.06636, 24.93108], [55.06696, 24.93185], [55.06731, 24.93227], [55.06772, 24.93266], [55.06814, 24.93299], [55.06855, 24.93327], [55.06895, 24.93351], [55.07103, 24.93448], [55.07148, 24.93471], [55.07238, 24.93518], [55.07319, 24.93563], [55.07325, 24.93564], [55.07356, 24.93581], [55.07382, 24.93594], [55.07404, 24.93602], [55.075, 24.93629], [55.07533, 24.93639], [55.07564, 24.93651], [55.07597, 24.93654], [55.07617, 24.93649], [55.07627, 24.9365], [55.07647, 24.93656], [55.07656, 24.93661], [55.07664, 24.93668], [55.0767, 24.93677], [55.07674, 24.93686], [55.07676, 24.93695], [55.07675, 24.93711], [55.07672, 24.93721], [55.07667, 24.93729], [55.0766, 24.93737], [55.07652, 24.93743], [55.07642, 24.93748], [55.07629, 24.93751], [55.07615, 24.93752], [55.07602, 24.93749], [55.07573, 24.93749], [55.07562, 24.93751], [55.07551, 24.93756], [55.07413, 24.93843], [55.0715, 24.94008], [55.06887, 24.94171], [55.06868, 24.94187], [55.06826, 24.94216], [55.06787, 24.94246], [55.06757, 24.94272], [55.06738, 24.94291], [55.06712, 24.94323], [55.0669, 24.94357], [55.06678, 24.9438], [55.06665, 24.94415], [55.06657, 24.94457], [55.06653, 24.94512], [55.06655, 24.94613], [55.06657, 24.94644], [55.06663, 24.94675], [55.06675, 24.94715], [55.06696, 24.94758], [55.06712, 24.94785], [55.0674, 24.94819], [55.0679, 24.94861], [55.06823, 24.94883], [55.06896, 24.94924], [55.06899, 24.94929], [55.06992, 24.94976], [55.07097, 24.95037], [55.07125, 24.95054], [55.07218, 24.95112], [55.07298, 24.95166], [55.0733, 24.95191], [55.07377, 24.95231], [55.07384, 24.95239], [55.07395, 24.95255], [55.07548, 24.95383], [55.07585, 24.95417], [55.07697, 24.95527], [55.0777, 24.95606], [55.07835, 24.95682], [55.07904, 24.95769], [55.07988, 24.9588], [55.08112, 24.96079], [55.08333, 24.96451], [55.08426, 24.96598], [55.08577, 24.96868], [55.08722, 24.97104], [55.08798, 24.97232], [55.08891, 24.97393], [55.08982, 24.97573], [55.09043, 24.97712], [55.09102, 24.97865], [55.09135, 24.97957], [55.09165, 24.9805], [55.09193, 24.98145], [55.09228, 24.98283], [55.09246, 24.98374], [55.09307, 24.98707], [55.09362, 24.99046], [55.09405, 24.99336], [55.09521, 25.00032], [55.09633, 25.00712], [55.09721, 25.01262], [55.09802, 25.01739], [55.09826, 25.0187], [55.09848, 25.0198], [55.09858, 25.02019], [55.09872, 25.02076], [55.09906, 25.0219], [55.09936, 25.02284], [55.09976, 25.02394], [55.10006, 25.02467], [55.10066, 25.02605], [55.10103, 25.0268], [55.10144, 25.02755], [55.10153, 25.02771], [55.10161, 25.02787], [55.10249, 25.02941], [55.10334, 25.03073], [55.10433, 25.03212], [55.10486, 25.03282], [55.1057, 25.03384], [55.10856, 25.03711], [55.11119, 25.04014], [55.11462, 25.044], [55.11727, 25.04703], [55.12156, 25.05188], [55.12307, 25.0536], [55.12491, 25.05572], [55.12876, 25.06007], [55.13225, 25.06405], [55.13394, 25.06589], [55.13533, 25.06747], [55.13851, 25.07114], [55.13996, 25.07275], [55.14094, 25.07385], [55.14185, 25.07491], [55.14317, 25.07635], [55.14402, 25.07721], [55.1449, 25.07804], [55.14579, 25.07886], [55.14673, 25.07963], [55.14708, 25.07992], [55.15312, 25.08498], [55.15536, 25.08688], [55.15683, 25.08819], [55.15966, 25.09057], [55.1613, 25.09197], [55.16232, 25.09283], [55.1633, 25.09369], [55.16455, 25.09473], [55.16531, 25.09543], [55.16982, 25.09924], [55.1729, 25.10183], [55.17422, 25.10299], [55.17632, 25.10476], [55.17704, 25.10534], [55.17778, 25.10589], [55.17911, 25.10685], [55.18457, 25.11069], [55.18805, 25.11315], [55.18893, 25.11376], [55.19029, 25.11471], [55.19176, 25.11568], [55.1919, 25.11577], [55.19379, 25.11709], [55.19949, 25.12111], [55.20427, 25.1245], [55.20742, 25.1267], [55.20907, 25.12783], [55.20989, 25.12846], [55.21029, 25.12879], [55.21106, 25.12947], [55.21179, 25.13018], [55.21271, 25.13125], [55.21317, 25.13184], [55.21361, 25.13245], [55.21381, 25.13275], [55.217, 25.13781], [55.21916, 25.1413], [55.22119, 25.14456], [55.22167, 25.14538], [55.22422, 25.14942], [55.22696, 25.15382], [55.22802, 25.15545], [55.22915, 25.15724], [55.23087, 25.15959], [55.23127, 25.16012], [55.23173, 25.16066], [55.23348, 25.16258], [55.23836, 25.16787], [55.24021, 25.16983], [55.24234, 25.17221], [55.24322, 25.17314], [55.24631, 25.17651], [55.24954, 25.18005], [55.25192, 25.18261], [55.25303, 25.18376], [55.25536, 25.18629], [55.25753, 25.18864], [55.26038, 25.19177], [55.26192, 25.19342], [55.262, 25.1935], [55.26422, 25.19592], [55.26465, 25.19622], [55.26559, 25.19715], [55.26604, 25.19765], [55.26648, 25.19816], [55.26703, 25.19888], [55.26788, 25.20003], [55.26851, 25.20091], [55.26856, 25.20104], [55.26899, 25.20169], [55.26977, 25.20284], [55.26992, 25.203], [55.2701, 25.20313], [55.27031, 25.20322], [55.27052, 25.20326], [55.27102, 25.2033], [55.27121, 25.20334], [55.27139, 25.2034], [55.27156, 25.20348], [55.27172, 25.20357], [55.27194, 25.20375], [55.27205, 25.20389], [55.27214, 25.20404], [55.2722, 25.2042], [55.27222, 25.20438], [55.27221, 25.20455], [55.27217, 25.20473], [55.2721, 25.20489], [55.27201, 25.20505], [55.27188, 25.20518], [55.27174, 25.2053], [55.27157, 25.20539], [55.2714, 25.20545], [55.27111, 25.20549], [55.27025, 25.20552], [55.26999, 25.20557], [55.26976, 25.20566], [55.26901, 25.20599], [55.26797, 25.20643], [55.26764, 25.20655], [55.26726, 25.20675], [55.26705, 25.20685], [55.26636, 25.20725], [55.2662, 25.20727], [55.26602, 25.20733], [55.2654, 25.20765], [55.26529, 25.20769], [55.26537, 25.20781], [55.26524, 25.20787], [55.26519, 25.2079], [55.26515, 25.20792], [55.26499, 25.20802], [55.26465, 25.20819], [55.26333, 25.20888], [55.26291, 25.20911], [55.26237, 25.2094], [55.26203, 25.2096], [55.26194, 25.20972], [55.26188, 25.20977], [55.26146, 25.21], [55.26143, 25.21004], [55.2614, 25.21013], [55.26145, 25.21029], [55.26187, 25.21094], [55.262, 25.21112], [55.26322, 25.21278], [55.26405, 25.21391], [55.26417, 25.21407], [55.2643, 25.21424], [55.26452, 25.21454], [55.26492, 25.2151], [55.26504, 25.21524], [55.26619, 25.21676], [55.26635, 25.21697], [55.26695, 25.21778], [55.26724, 25.21823], [55.26798, 25.21921], [55.26811, 25.21934], [55.2685, 25.21984], [55.26854, 25.21992], [55.26872, 25.22015], [55.26881, 25.22026], [55.27055, 25.22259], [55.27069, 25.22279], [55.27081, 25.22294], [55.27169, 25.22413], [55.27177, 25.22424], [55.27184, 25.22432], [55.27191, 25.22442], [55.27211, 25.2247], [55.27219, 25.2248], [55.27225, 25.22496], [55.27243, 25.22521], [55.27241, 25.22526], [55.27232, 25.2253], [55.27188, 25.22557], [55.27216, 25.22596], [55.27221, 25.22603], [55.2724, 25.22628], [55.27249, 25.22641], [55.27264, 25.22661], [55.27284, 25.22688], [55.27285, 25.22693], [55.27282, 25.22698], [55.27249, 25.22719], [55.27277, 25.22755], [55.27232, 25.22783], [55.27281, 25.22853], [55.27299, 25.22878], [55.27294, 25.22881], [55.27316, 25.22911], [55.27341, 25.22945], [55.27348, 25.22941], [55.27396, 25.23005], [55.27435, 25.2298], [55.27456, 25.22967], [55.27435, 25.2298], [55.27396, 25.23005], [55.27348, 25.22941], [55.27341, 25.22945], [55.27226, 25.2302], [55.27202, 25.23034], [55.27178, 25.23045], [55.27159, 25.23056], [55.27107, 25.23076], [55.27087, 25.23084], [55.26999, 25.2312], [55.26994, 25.23122], [55.26972, 25.23131], [55.26959, 25.23136], [55.2695, 25.23138], [55.26909, 25.23154], [55.26896, 25.23155], [55.26914, 25.23191], [55.26924, 25.23213], [55.2694, 25.23245], [55.26948, 25.23259], [55.27017, 25.23396], [55.27064, 25.23499], [55.27082, 25.2353], [55.27093, 25.23556], [55.27102, 25.23574], [55.27124, 25.23624], [55.27153, 25.23679], [55.27164, 25.23701], [55.27181, 25.23737], [55.27205, 25.23785], [55.27212, 25.23805], [55.27219, 25.23821], [55.2725, 25.23871], [55.27255, 25.23879], [55.27257, 25.23885], [55.27258, 25.23892], [55.27263, 25.23891], [55.27273, 25.23891], [55.2728, 25.23901], [55.27306, 25.23936], [55.2732, 25.2395], [55.2735, 25.23978], [55.27424, 25.2403], [55.27461, 25.24058], [55.275, 25.24092], [55.27533, 25.24128], [55.27551, 25.2415], [55.27578, 25.24193], [55.27652, 25.24333], [55.27696, 25.24413], [55.27708, 25.24435], [55.2771, 25.24438], [55.27725, 25.24464], [55.27744, 25.24502], [55.27805, 25.24617], [55.27835, 25.24672], [55.27858, 25.24712], [55.27901, 25.24776], [55.27951, 25.24846], [55.27976, 25.24878], [55.27997, 25.24902], [55.28019, 25.24917], [55.28035, 25.24925], [55.28052, 25.24931], [55.28062, 25.24933], [55.28074, 25.24941], [55.28082, 25.24951], [55.28086, 25.24962], [55.28087, 25.24968], [55.28085, 25.24975], [55.28082, 25.24984], [55.28075, 25.24999], [55.28073, 25.25013], [55.28074, 25.25035], [55.28084, 25.25095], [55.28088, 25.25116], [55.28095, 25.25136], [55.28112, 25.25168], [55.28233, 25.25321], [55.28256, 25.25343], [55.28293, 25.25373], [55.28316, 25.25395], [55.28324, 25.25404], [55.28337, 25.25411], [55.28363, 25.25435], [55.28368, 25.25436], [55.28373, 25.25435], [55.2838, 25.25431], [55.28385, 25.25426], [55.28385, 25.2542], [55.2839, 25.25411], [55.28393, 25.25409], [55.284, 25.25407], [55.2841, 25.2541], [55.28417, 25.25417], [55.28418, 25.25422], [55.28416, 25.25429], [55.28411, 25.25434], [55.2841, 25.25439], [55.28411, 25.25449], [55.28471, 25.25544], [55.28505, 25.25627], [55.28513, 25.25651], [55.28519, 25.25677], [55.28525, 25.25731], [55.28537, 25.25738], [55.28546, 25.25741], [55.28583, 25.2574], [55.28627, 25.25737], [55.28663, 25.25734], [55.28716, 25.25729], [55.28806, 25.25722], [55.28944, 25.25711], [55.28947, 25.25711], [55.28995, 25.25708], [55.29044, 25.25705], [55.29117, 25.257], [55.29044, 25.25705], [55.29044, 25.25761], [55.29045, 25.25807], [55.29045, 25.25846], [55.29047, 25.25916], [55.2905, 25.25923], [55.29055, 25.25928], [55.2915, 25.25937], [55.2919, 25.25939], [55.29235, 25.25943], [55.29404, 25.25961], [55.29423, 25.25961], [55.29465, 25.25955], [55.29472, 25.25952], [55.29482, 25.25956], [55.29487, 25.25961], [55.29497, 25.25969], [55.29489, 25.25971], [55.2945, 25.25981], [55.29426, 25.25983], [55.29403, 25.25983], [55.29381, 25.25981], [55.29318, 25.25972], [55.29308, 25.25977], [55.29304, 25.25983], [55.29291, 25.26049], [55.2929, 25.26057], [55.29286, 25.26074], [55.29275, 25.26118], [55.29263, 25.26122], [55.29184, 25.2613], [55.29174, 25.26128], [55.2916, 25.26079], [55.29148, 25.26041], [55.29142, 25.26038], [55.29136, 25.26038], [55.29078, 25.2604], [55.28989, 25.26043], [55.28982, 25.26045], [55.28978, 25.26049], [55.28982, 25.26091], [55.28989, 25.26161], [55.2899, 25.26175], [55.28991, 25.26186], [55.29, 25.26192], [55.29007, 25.26193], [55.29168, 25.2621], [55.29177, 25.2621], [55.29186, 25.26207], [55.29185, 25.26175], [55.29174, 25.26128], [55.2916, 25.26079], [55.29148, 25.26041], [55.29129, 25.25967], [55.29132, 25.25957], [55.2914, 25.25946], [55.2915, 25.25937], [55.2919, 25.25939], [55.29235, 25.25943], [55.29404, 25.25961], [55.29423, 25.25961], [55.29465, 25.25955], [55.29472, 25.25952], [55.29482, 25.25956], [55.29487, 25.25961], [55.29497, 25.25969], [55.29489, 25.25971], [55.2945, 25.25981], [55.29426, 25.25983], [55.29403, 25.25983], [55.29381, 25.25981], [55.29318, 25.25972], [55.29308, 25.25977], [55.29304, 25.25983], [55.29291, 25.26049], [55.2929, 25.26057], [55.29286, 25.26074], [55.29275, 25.26118], [55.29269, 25.26152], [55.29268, 25.26164], [55.29273, 25.26167], [55.2928, 25.26169], [55.29402, 25.26169], [55.29404, 25.26169], [55.29396, 25.26139], [55.29383, 25.26108], [55.29395, 25.26109], [55.29429, 25.26108], [55.29433, 25.26103], [55.29433, 25.26091], [55.29432, 25.26053], [55.29302, 25.26055], [55.2929, 25.26057], [55.29286, 25.26074], [55.29275, 25.26118], [55.29269, 25.26152], [55.29268, 25.26164], [55.29263, 25.26198], [55.29262, 25.26213], [55.2926, 25.26243], [55.29263, 25.26252], [55.29274, 25.26261], [55.29383, 25.26267], [55.29408, 25.26267], [55.29438, 25.26268], [55.29441, 25.26268], [55.29464, 25.26267], [55.2956, 25.26252], [55.29596, 25.26251], [55.29631, 25.26253], [55.29637, 25.26253], [55.29646, 25.26255], [55.29665, 25.26259], [55.29701, 25.26265], [55.29708, 25.26266], [55.29729, 25.26269], [55.2975, 25.26281], [55.29756, 25.26287], [55.29761, 25.26295], [55.2975, 25.26379], [55.29749, 25.26383], [55.29746, 25.26399], [55.29742, 25.26409], [55.29734, 25.26414], [55.29719, 25.26414], [55.29706, 25.26414], [55.29668, 25.26413], [55.29644, 25.26409], [55.29531, 25.26383], [55.29471, 25.2637], [55.29377, 25.26348], [55.29372, 25.26349], [55.29368, 25.26353], [55.29356, 25.2641], [55.29341, 25.26448], [55.29335, 25.26452], [55.29323, 25.26452], [55.29283, 25.26444], [55.29256, 25.26439], [55.29233, 25.26438], [55.29197, 25.26437], [55.29149, 25.26437], [55.29122, 25.26437], [55.29104, 25.26436], [55.29036, 25.26436], [55.29029, 25.26436], [55.28992, 25.26439], [55.28986, 25.26442], [55.2898, 25.26447], [55.28975, 25.26452], [55.28963, 25.26464], [55.28958, 25.26465], [55.28951, 25.26464], [55.28926, 25.26448], [55.28898, 25.26429], [55.28869, 25.2641], [55.28854, 25.26428], [55.28816, 25.26492], [55.28765, 25.26562], [55.28746, 25.26588], [55.28742, 25.26601], [55.28745, 25.26614], [55.28766, 25.26655], [55.28806, 25.26712], [55.28822, 25.26745], [55.28859, 25.26801], [55.28989, 25.26992], [55.29008, 25.27018], [55.29035, 25.27047], [55.29049, 25.27061], [55.29079, 25.27083], [55.29107, 25.27102], [55.29137, 25.2712], [55.2917, 25.27137], [55.29205, 25.27153], [55.29762, 25.27361], [55.30011, 25.27454], [55.30024, 25.27458], [55.30044, 25.27466], [55.30136, 25.275], [55.30221, 25.27536], [55.30255, 25.2755], [55.30302, 25.27573], [55.30391, 25.27623], [55.30426, 25.27641], [55.30485, 25.27674], [55.30501, 25.27647], [55.30544, 25.2758], [55.30581, 25.27523], [55.3059, 25.27505], [55.30602, 25.27474], [55.30612, 25.27436], [55.30629, 25.27386], [55.30629, 25.27375], [55.30624, 25.27355], [55.3062, 25.27345], [55.30607, 25.27328], [55.30547, 25.27297], [55.30507, 25.27278], [55.30495, 25.27272], [55.30447, 25.27249], [55.30278, 25.27169], [55.30267, 25.27163], [55.30237, 25.2715], [55.30236, 25.27176], [55.30234, 25.27197], [55.3023, 25.2722], [55.30225, 25.27248], [55.30221, 25.27262], [55.30215, 25.27306], [55.30216, 25.27312], [55.3022, 25.27316], [55.30225, 25.2732], [55.30312, 25.27347], [55.30349, 25.27359], [55.30367, 25.27365], [55.30416, 25.27378], [55.30469, 25.27392], [55.30492, 25.27399], [55.30549, 25.27421], [55.30596, 25.27441], [55.30607, 25.27439], [55.30612, 25.27436], [55.30629, 25.27386], [55.30629, 25.27375], [55.30624, 25.27355], [55.3062, 25.27345], [55.30607, 25.27328], [55.30547, 25.27297], [55.30507, 25.27278], [55.30495, 25.27272], [55.30447, 25.27249], [55.30278, 25.27169], [55.30267, 25.27163], [55.30237, 25.2715], [55.30208, 25.27137], [55.30073, 25.27085], [55.30054, 25.27078], [55.30045, 25.27093], [55.30036, 25.2711], [55.3002, 25.27163], [55.29996, 25.27221], [55.29993, 25.27229], [55.29996, 25.27237], [55.29999, 25.2724], [55.30041, 25.27259], [55.30115, 25.27288], [55.30116, 25.27296], [55.30115, 25.27304], [55.301, 25.27347], [55.3011, 25.27356], [55.30154, 25.27377], [55.30188, 25.27394], [55.30192, 25.27398], [55.30197, 25.27406], [55.30189, 25.27448], [55.30182, 25.27467], [55.30173, 25.27486], [55.30173, 25.27498], [55.30181, 25.27502], [55.30255, 25.2755], [55.30302, 25.27573], [55.30391, 25.27623], [55.30406, 25.27638], [55.30422, 25.2765], [55.30479, 25.27684], [55.30488, 25.27689], [55.30482, 25.27699], [55.30472, 25.27694], [55.30378, 25.2764], [55.30292, 25.27588], [55.30215, 25.27548], [55.30187, 25.27535], [55.30158, 25.27521], [55.3004, 25.27475], [55.30015, 25.27466], [55.29975, 25.27451], [55.29792, 25.27383], [55.29242, 25.27177], [55.29196, 25.2716], [55.29152, 25.2714], [55.29098, 25.27113], [55.29057, 25.27085], [55.29044, 25.27079], [55.28994, 25.2705], [55.28929, 25.27019], [55.28916, 25.2701], [55.28892, 25.26992], [55.28871, 25.26971], [55.28855, 25.26947], [55.28825, 25.26886], [55.28811, 25.26864], [55.28689, 25.26685], [55.28671, 25.26653], [55.2865, 25.26608], [55.28635, 25.26584], [55.28622, 25.26559], [55.28607, 25.26524], [55.28596, 25.26493], [55.28581, 25.26461], [55.28462, 25.26284], [55.28445, 25.26255], [55.28432, 25.26225], [55.28421, 25.26195], [55.28417, 25.2618], [55.28403, 25.26111], [55.28395, 25.2608], [55.28407, 25.26067], [55.28414, 25.26062], [55.28427, 25.26057], [55.28451, 25.26053], [55.2847, 25.26051], [55.28483, 25.2605], [55.28505, 25.26047], [55.28529, 25.26039], [55.28597, 25.26011], [55.28641, 25.25994], [55.28682, 25.25978], [55.28762, 25.25948], [55.28794, 25.25939], [55.28843, 25.25929], [55.28893, 25.25922], [55.28951, 25.25919], [55.28963, 25.25927], [55.28968, 25.25933], [55.28971, 25.25945], [55.28972, 25.25978], [55.28977, 25.26044], [55.28978, 25.26049], [55.28982, 25.2609], [55.28982, 25.26091], [55.28989, 25.26161], [55.2899, 25.26175], [55.28988, 25.26178], [55.28982, 25.26184], [55.28975, 25.26186], [55.28968, 25.26186], [55.28852, 25.26152], [55.28848, 25.26142], [55.28853, 25.26123], [55.28859, 25.26105], [55.28864, 25.26075], [55.2886, 25.26009], [55.28856, 25.25961], [55.28852, 25.25953], [55.28844, 25.25946], [55.28815, 25.2595], [55.28794, 25.25955], [55.28732, 25.25981], [55.2852, 25.2607], [55.28512, 25.26075], [55.28502, 25.26078], [55.2849, 25.26084], [55.28483, 25.26084], [55.28476, 25.26082], [55.2847, 25.26074], [55.28469, 25.26064], [55.28475, 25.26054], [55.28483, 25.2605], [55.28505, 25.26047], [55.28529, 25.26039], [55.28597, 25.26011], [55.28641, 25.25994], [55.28682, 25.25978], [55.28697, 25.25957], [55.287, 25.25948], [55.28687, 25.25885], [55.2868, 25.25861], [55.28675, 25.25845], [55.28668, 25.25824], [55.28665, 25.25816], [55.28669, 25.25808], [55.28671, 25.25807], [55.28676, 25.25803], [55.28681, 25.25802], [55.28799, 25.25795], [55.28807, 25.25795], [55.28815, 25.25798], [55.28818, 25.25837], [55.28819, 25.25845], [55.28827, 25.25912], [55.28831, 25.25921], [55.28834, 25.25924], [55.28843, 25.25929], [55.28893, 25.25922], [55.28951, 25.25919], [55.28983, 25.25921], [55.29055, 25.25928], [55.2915, 25.25937], [55.2919, 25.25939], [55.29235, 25.25943], [55.29404, 25.25961], [55.29423, 25.25961], [55.29465, 25.25955], [55.29472, 25.25952], [55.29491, 25.25944], [55.29519, 25.25932], [55.29585, 25.25902], [55.29623, 25.25883], [55.29633, 25.25884], [55.29642, 25.25881], [55.29745, 25.25825], [55.29754, 25.25825], [55.29757, 25.25825], [55.29757, 25.25823], [55.29756, 25.25809], [55.29783, 25.25795], [55.29806, 25.25784], [55.29823, 25.25775], [55.29901, 25.25734], [55.30081, 25.25645], [55.30088, 25.25641], [55.3011, 25.25629], [55.3018, 25.25595], [55.30264, 25.25554], [55.30347, 25.25514], [55.30363, 25.25507], [55.30379, 25.2549], [55.30388, 25.25476], [55.30393, 25.25462], [55.30392, 25.25441], [55.30376, 25.25413], [55.30349, 25.25366], [55.30278, 25.25249], [55.30221, 25.25156], [55.30174, 25.25077], [55.30163, 25.25058], [55.30141, 25.25022], [55.3012, 25.24987], [55.30066, 25.24895], [55.30036, 25.24845], [55.30018, 25.2481], [55.29978, 25.24745], [55.29951, 25.247], [55.29946, 25.24689], [55.29929, 25.24656], [55.29872, 25.24558], [55.29824, 25.24474], [55.29818, 25.24465], [55.29792, 25.24424], [55.29782, 25.24408], [55.29766, 25.24376], [55.29736, 25.24324], [55.29643, 25.24168], [55.29611, 25.24119], [55.29568, 25.24045], [55.29499, 25.23922], [55.29347, 25.23653], [55.29305, 25.2358], [55.29302, 25.23575], [55.29292, 25.23568], [55.29215, 25.23425], [55.29211, 25.23412], [55.29041, 25.23122], [55.29021, 25.23093], [55.28994, 25.23057], [55.28949, 25.23017], [55.28902, 25.2298], [55.28827, 25.2293], [55.28771, 25.22896], [55.28758, 25.22884], [55.28747, 25.22871], [55.28728, 25.22859], [55.28693, 25.22831], [55.28644, 25.22784], [55.28602, 25.22733], [55.28514, 25.22608], [55.28258, 25.22233], [55.28193, 25.22135], [55.27914, 25.21728], [55.27811, 25.21581], [55.27584, 25.21253], [55.27453, 25.2106], [55.27327, 25.20868], [55.27092, 25.20523], [55.26835, 25.20155], [55.2676, 25.20049], [55.26665, 25.19919], [55.26593, 25.19829], [55.26526, 25.1975], [55.26457, 25.19672], [55.26206, 25.19399], [55.26191, 25.19383], [55.26102, 25.19287], [55.25757, 25.18915], [55.25728, 25.18884], [55.25316, 25.18438], [55.25277, 25.18393], [55.24606, 25.17669], [55.2413, 25.17151], [55.24046, 25.17054], [55.23173, 25.16108], [55.22965, 25.15853], [55.2293, 25.15804], [55.22886, 25.1574], [55.2276, 25.15536], [55.21854, 25.14085], [55.21614, 25.13701], [55.21356, 25.13288], [55.21317, 25.13233], [55.21275, 25.13179], [55.21215, 25.13107], [55.21187, 25.13075], [55.21157, 25.13043], [55.21096, 25.12982], [55.21032, 25.12923], [55.20999, 25.12895], [55.20931, 25.1284], [55.20888, 25.12808], [55.19585, 25.11888], [55.19325, 25.11706], [55.19274, 25.11671], [55.19261, 25.11662], [55.18984, 25.11474], [55.18779, 25.1133], [55.18515, 25.11142], [55.18115, 25.10861], [55.17711, 25.10572], [55.17531, 25.10428], [55.16715, 25.09734], [55.16623, 25.09658], [55.16465, 25.09526], [55.16399, 25.09464], [55.163, 25.09382], [55.16276, 25.09358], [55.16251, 25.09334], [55.16033, 25.09149], [55.15814, 25.08967], [55.15429, 25.08637], [55.15187, 25.08432], [55.14817, 25.08123], [55.14557, 25.07905], [55.14385, 25.07744], [55.14242, 25.07598], [55.14068, 25.07403], [55.13768, 25.07063], [55.13664, 25.0694], [55.13517, 25.0677], [55.12986, 25.06176], [55.12859, 25.06036], [55.12654, 25.05801], [55.12458, 25.05578], [55.12217, 25.05298], [55.11989, 25.05044], [55.11711, 25.04726], [55.11525, 25.04517], [55.1137, 25.04343], [55.11312, 25.04273], [55.11099, 25.04028], [55.10813, 25.03707], [55.10599, 25.03463], [55.10518, 25.03369], [55.10479, 25.0332], [55.10441, 25.03272], [55.10367, 25.03172], [55.10331, 25.03122], [55.10263, 25.03019], [55.10198, 25.02915], [55.10139, 25.02813], [55.10128, 25.02793], [55.10075, 25.02686], [55.10032, 25.02598], [55.10006, 25.02541], [55.09958, 25.02425], [55.09936, 25.02367], [55.0988, 25.02204], [55.09841, 25.02069], [55.0982, 25.01984], [55.09797, 25.01866], [55.09764, 25.01672], [55.09723, 25.01446], [55.09696, 25.01287], [55.09628, 25.00868], [55.09558, 25.0045], [55.09531, 25.00301], [55.09491, 25.0005], [55.09481, 25.00035], [55.09476, 25.00025], [55.09467, 24.99994], [55.09442, 24.99881], [55.09401, 24.99654], [55.094, 24.99619], [55.09396, 24.99584], [55.09339, 24.99234], [55.09315, 24.99146], [55.09306, 24.99124], [55.09288, 24.99094], [55.09237, 24.99029], [55.09157, 24.9893], [55.09132, 24.98891], [55.09123, 24.98881], [55.09111, 24.98875], [55.09098, 24.98873], [55.09056, 24.98877], [55.09021, 24.98877], [55.08959, 24.98881], [55.08908, 24.98888], [55.08903, 24.98889], [55.08887, 24.98892], [55.08852, 24.98899], [55.0883, 24.98903], [55.08822, 24.98905], [55.08782, 24.98914], [55.08723, 24.98933], [55.08698, 24.98939], [55.08684, 24.98941], [55.08671, 24.98939], [55.08658, 24.98936], [55.08635, 24.98925], [55.086, 24.98894], [55.08519, 24.98822], [55.0841, 24.98721], [55.08392, 24.98701], [55.08343, 24.98658], [55.08303, 24.98626], [55.08096, 24.98444], [55.08088, 24.98432], [55.08067, 24.98411], [55.08066, 24.98407], [55.08069, 24.98403]]}\n"
     ]
    }
   ],
   "source": [
    "print(decoded)"
   ]
  },
  {
   "cell_type": "code",
   "execution_count": 26,
   "metadata": {
    "colab": {
     "base_uri": "https://localhost:8080/",
     "height": 1000
    },
    "id": "n9COFj3MrCdG",
    "outputId": "e536042a-f7a1-4765-cb83-0325963bd0d3"
   },
   "outputs": [
    {
     "ename": "TypeError",
     "evalue": "object of type 'NoneType' has no len()",
     "output_type": "error",
     "traceback": [
      "\u001b[1;31m---------------------------------------------------------------------------\u001b[0m",
      "\u001b[1;31mTypeError\u001b[0m                                 Traceback (most recent call last)",
      "Cell \u001b[1;32mIn[26], line 28\u001b[0m\n\u001b[0;32m     26\u001b[0m cumulative_route_load \u001b[38;5;241m=\u001b[39m route_output_df[\u001b[38;5;124m'\u001b[39m\u001b[38;5;124mcumulative_route_load\u001b[39m\u001b[38;5;124m'\u001b[39m][i]\n\u001b[0;32m     27\u001b[0m geometry \u001b[38;5;241m=\u001b[39m route_output_df[\u001b[38;5;124m'\u001b[39m\u001b[38;5;124mroute_geometry\u001b[39m\u001b[38;5;124m'\u001b[39m][i]\n\u001b[1;32m---> 28\u001b[0m decoded \u001b[38;5;241m=\u001b[39m \u001b[43mconvert\u001b[49m\u001b[38;5;241;43m.\u001b[39;49m\u001b[43mdecode_polyline\u001b[49m\u001b[43m(\u001b[49m\u001b[43mgeometry\u001b[49m\u001b[43m)\u001b[49m\n\u001b[0;32m     30\u001b[0m distance_txt \u001b[38;5;241m=\u001b[39m \u001b[38;5;124m\"\u001b[39m\u001b[38;5;124m<h4> <b>Distance :&nbsp\u001b[39m\u001b[38;5;124m\"\u001b[39m \u001b[38;5;241m+\u001b[39m \u001b[38;5;124m\"\u001b[39m\u001b[38;5;124m<strong>\u001b[39m\u001b[38;5;124m\"\u001b[39m\u001b[38;5;241m+\u001b[39m\u001b[38;5;28mstr\u001b[39m(cumulative_route_load)\u001b[38;5;241m+\u001b[39m\u001b[38;5;124m\"\u001b[39m\u001b[38;5;124m Km </strong>\u001b[39m\u001b[38;5;124m\"\u001b[39m \u001b[38;5;241m+\u001b[39m\u001b[38;5;124m\"\u001b[39m\u001b[38;5;124m</h4></b>\u001b[39m\u001b[38;5;124m\"\u001b[39m\n\u001b[0;32m     31\u001b[0m duration_txt \u001b[38;5;241m=\u001b[39m \u001b[38;5;124m\"\u001b[39m\u001b[38;5;124m<h4> <b>Duration :&nbsp\u001b[39m\u001b[38;5;124m\"\u001b[39m \u001b[38;5;241m+\u001b[39m \u001b[38;5;124m\"\u001b[39m\u001b[38;5;124m<strong>\u001b[39m\u001b[38;5;124m\"\u001b[39m\u001b[38;5;241m+\u001b[39m\u001b[38;5;28mstr\u001b[39m(duration)\u001b[38;5;241m+\u001b[39m\u001b[38;5;124m\"\u001b[39m\u001b[38;5;124m Mins. </strong>\u001b[39m\u001b[38;5;124m\"\u001b[39m \u001b[38;5;241m+\u001b[39m\u001b[38;5;124m\"\u001b[39m\u001b[38;5;124m</h4></b>\u001b[39m\u001b[38;5;124m\"\u001b[39m\n",
      "File \u001b[1;32mc:\\Users\\lakshmi.n.GAGROUP\\Documents\\Python Scripts\\Delivery Route\\envdelrout\\Lib\\site-packages\\openrouteservice\\convert.py:147\u001b[0m, in \u001b[0;36mdecode_polyline\u001b[1;34m(polyline, is3d)\u001b[0m\n\u001b[0;32m    144\u001b[0m points \u001b[38;5;241m=\u001b[39m []\n\u001b[0;32m    145\u001b[0m index \u001b[38;5;241m=\u001b[39m lat \u001b[38;5;241m=\u001b[39m lng \u001b[38;5;241m=\u001b[39m z \u001b[38;5;241m=\u001b[39m \u001b[38;5;241m0\u001b[39m\n\u001b[1;32m--> 147\u001b[0m \u001b[38;5;28;01mwhile\u001b[39;00m index \u001b[38;5;241m<\u001b[39m \u001b[38;5;28;43mlen\u001b[39;49m\u001b[43m(\u001b[49m\u001b[43mpolyline\u001b[49m\u001b[43m)\u001b[49m:\n\u001b[0;32m    148\u001b[0m     result \u001b[38;5;241m=\u001b[39m \u001b[38;5;241m1\u001b[39m\n\u001b[0;32m    149\u001b[0m     shift \u001b[38;5;241m=\u001b[39m \u001b[38;5;241m0\u001b[39m\n",
      "\u001b[1;31mTypeError\u001b[0m: object of type 'NoneType' has no len()"
     ]
    }
   ],
   "source": [
    "from openrouteservice import convert\n",
    "\n",
    "def html_popup_series(row):\n",
    "    try:\n",
    "        html = f\"\"\"\n",
    "            <h3> Customer Details </h3><br>\n",
    "            <ul>\n",
    "            <li>Customer Code = {row['customerCode'].values[0]}</li>\n",
    "            <li>Customer Address = {row['customerAddress'].values[0]}</li>\n",
    "            <li>Total Orders = {row['totalOrders'].values[0]}</li>\n",
    "            <li>Total Order weight = {row['totalWeight'].values[0]}</li>\n",
    "            <li>Total Items = {row['totalItems'].values[0]}</li>\n",
    "            <li>Sale Value = {row['saleValue'].values[0]}</li>\n",
    "            <li>Gross Profit Margin = {row['grossProfitMargin'].values[0]}</li>\n",
    "            </ul>\n",
    "            \"\"\"\n",
    "        return html\n",
    "    except IndexError:\n",
    "        return None\n",
    "\n",
    "i = 1\n",
    "# Locals\n",
    "coordinates = route_output_df['route_coords'][i]\n",
    "ids = route_output_df['route_ids'][i]\n",
    "duration = route_output_df['route_duration'][i]\n",
    "cumulative_route_load = route_output_df['cumulative_route_load'][i]\n",
    "geometry = route_output_df['route_geometry'][i]\n",
    "decoded = convert.decode_polyline(geometry)\n",
    "\n",
    "distance_txt = \"<h4> <b>Distance :&nbsp\" + \"<strong>\"+str(cumulative_route_load)+\" Km </strong>\" +\"</h4></b>\"\n",
    "duration_txt = \"<h4> <b>Duration :&nbsp\" + \"<strong>\"+str(duration)+\" Mins. </strong>\" +\"</h4></b>\"\n",
    "\n",
    "m = folium.Map(location=start, tiles=\"Cartodb Positron\", zoom_start=12)\n",
    "folium.GeoJson(decoded).add_child(folium.Popup(distance_txt+duration_txt,max_width=300)).add_to(m)\n",
    "\n",
    "for each in range(len(coordinates)):\n",
    "    folium.Marker(\n",
    "        location=list(coordinates[each][::-1]),\n",
    "        popup=html_popup_series(order_details[order_details['customerCode']==str(ids[each])]),\n",
    "        icon=folium.Icon(color=\"green\"),\n",
    "    ).add_to(m)\n",
    "\n",
    "m"
   ]
  },
  {
   "cell_type": "code",
   "execution_count": null,
   "metadata": {},
   "outputs": [
    {
     "ename": "NameError",
     "evalue": "name 'df_area_sales_2' is not defined",
     "output_type": "error",
     "traceback": [
      "\u001b[1;31m---------------------------------------------------------------------------\u001b[0m",
      "\u001b[1;31mNameError\u001b[0m                                 Traceback (most recent call last)",
      "Cell \u001b[1;32mIn[67], line 1\u001b[0m\n\u001b[1;32m----> 1\u001b[0m fig \u001b[38;5;241m=\u001b[39m px\u001b[38;5;241m.\u001b[39mchoropleth(\u001b[43mdf_area_sales_2\u001b[49m, \n\u001b[0;32m      2\u001b[0m                     geojson\u001b[38;5;241m=\u001b[39mjs, \n\u001b[0;32m      3\u001b[0m                     locations\u001b[38;5;241m=\u001b[39m\u001b[38;5;124m\"\u001b[39m\u001b[38;5;124mGID_2\u001b[39m\u001b[38;5;124m\"\u001b[39m, \n\u001b[0;32m      4\u001b[0m                     featureidkey\u001b[38;5;241m=\u001b[39m\u001b[38;5;124m\"\u001b[39m\u001b[38;5;124mproperties.GID_2\u001b[39m\u001b[38;5;124m\"\u001b[39m, \n\u001b[0;32m      5\u001b[0m                     color\u001b[38;5;241m=\u001b[39m\u001b[38;5;124m'\u001b[39m\u001b[38;5;124mitemTotalWeight\u001b[39m\u001b[38;5;124m'\u001b[39m,\n\u001b[0;32m      6\u001b[0m                     color_continuous_scale\u001b[38;5;241m=\u001b[39m\u001b[38;5;124m\"\u001b[39m\u001b[38;5;124mylgn\u001b[39m\u001b[38;5;124m\"\u001b[39m,  \u001b[38;5;66;03m# Set color scale to green\u001b[39;00m\n\u001b[0;32m      7\u001b[0m                     range_color\u001b[38;5;241m=\u001b[39m(\u001b[38;5;241m0\u001b[39m, \u001b[38;5;241m1540\u001b[39m),\n\u001b[0;32m      8\u001b[0m                     scope\u001b[38;5;241m=\u001b[39m\u001b[38;5;124m'\u001b[39m\u001b[38;5;124masia\u001b[39m\u001b[38;5;124m'\u001b[39m\n\u001b[0;32m      9\u001b[0m                    )\n\u001b[0;32m     11\u001b[0m \u001b[38;5;66;03m# Add points to the choropleth map\u001b[39;00m\n\u001b[0;32m     12\u001b[0m scatter_trace \u001b[38;5;241m=\u001b[39m px\u001b[38;5;241m.\u001b[39mscatter_geo(order_details, \n\u001b[0;32m     13\u001b[0m                                lat\u001b[38;5;241m=\u001b[39m\u001b[38;5;124m'\u001b[39m\u001b[38;5;124mcustomerLat\u001b[39m\u001b[38;5;124m'\u001b[39m, \n\u001b[0;32m     14\u001b[0m                                lon\u001b[38;5;241m=\u001b[39m\u001b[38;5;124m'\u001b[39m\u001b[38;5;124mcustomerLong\u001b[39m\u001b[38;5;124m'\u001b[39m, \n\u001b[1;32m   (...)\u001b[0m\n\u001b[0;32m     18\u001b[0m                                opacity\u001b[38;5;241m=\u001b[39m\u001b[38;5;241m.5\u001b[39m,\n\u001b[0;32m     19\u001b[0m                               )\n",
      "\u001b[1;31mNameError\u001b[0m: name 'df_area_sales_2' is not defined"
     ]
    }
   ],
   "source": [
    "fig = px.choropleth(df_area_sales_2, \n",
    "                    geojson=js, \n",
    "                    locations=\"GID_2\", \n",
    "                    featureidkey=\"properties.GID_2\", \n",
    "                    color='itemTotalWeight',\n",
    "                    color_continuous_scale=\"ylgn\",  # Set color scale to green\n",
    "                    range_color=(0, 1540),\n",
    "                    scope='asia'\n",
    "                   )\n",
    "\n",
    "# Add points to the choropleth map\n",
    "scatter_trace = px.scatter_geo(order_details, \n",
    "                               lat='customerLat', \n",
    "                               lon='customerLong', \n",
    "                               size='totalWeight',\n",
    "                               color='totalWeight',\n",
    "                               color_continuous_scale=\"Reds\",  # Set color scale to red\n",
    "                               opacity=.5,\n",
    "                              )\n",
    "\n",
    "scatter_trace.update_traces(marker=dict(color='Orange', size=15, line=dict(width=1, color='White')), selector=dict(mode='markers'))\n",
    "fig.add_trace(scatter_trace.data[0])\n",
    "\n",
    "# Update layout for better formatting\n",
    "fig.update_layout(\n",
    "    coloraxis_colorbar=dict(title='Weight Scale'),  # Adjust color bar title\n",
    "    geo=dict(projection_type='mercator'  # Adjust projection type if necessary\n",
    "            ),\n",
    "    )\n",
    "\n",
    "fig.update_layout(margin={\"r\":0,\"t\":0,\"l\":0,\"b\":0}, plot_bgcolor='black')\n",
    "fig.update_geos(fitbounds=\"locations\", visible=False)\n",
    "fig.show()"
   ]
  },
  {
   "cell_type": "code",
   "execution_count": null,
   "metadata": {},
   "outputs": [],
   "source": []
  },
  {
   "cell_type": "code",
   "execution_count": null,
   "metadata": {},
   "outputs": [],
   "source": []
  },
  {
   "cell_type": "code",
   "execution_count": null,
   "metadata": {},
   "outputs": [],
   "source": []
  },
  {
   "cell_type": "code",
   "execution_count": null,
   "metadata": {},
   "outputs": [],
   "source": []
  },
  {
   "cell_type": "code",
   "execution_count": null,
   "metadata": {},
   "outputs": [],
   "source": []
  },
  {
   "cell_type": "code",
   "execution_count": null,
   "metadata": {},
   "outputs": [],
   "source": []
  },
  {
   "cell_type": "code",
   "execution_count": null,
   "metadata": {},
   "outputs": [],
   "source": []
  },
  {
   "cell_type": "code",
   "execution_count": null,
   "metadata": {},
   "outputs": [],
   "source": []
  },
  {
   "cell_type": "code",
   "execution_count": null,
   "metadata": {},
   "outputs": [],
   "source": []
  },
  {
   "cell_type": "code",
   "execution_count": null,
   "metadata": {},
   "outputs": [],
   "source": []
  },
  {
   "cell_type": "code",
   "execution_count": null,
   "metadata": {},
   "outputs": [],
   "source": []
  },
  {
   "cell_type": "code",
   "execution_count": null,
   "metadata": {},
   "outputs": [],
   "source": []
  },
  {
   "cell_type": "code",
   "execution_count": null,
   "metadata": {},
   "outputs": [],
   "source": []
  },
  {
   "cell_type": "code",
   "execution_count": null,
   "metadata": {},
   "outputs": [],
   "source": []
  }
 ],
 "metadata": {
  "colab": {
   "collapsed_sections": [
    "yURyNaKSL7Lm"
   ],
   "machine_shape": "hm",
   "provenance": []
  },
  "kernelspec": {
   "display_name": "Python 3 (ipykernel)",
   "language": "python",
   "name": "python3"
  },
  "language_info": {
   "codemirror_mode": {
    "name": "ipython",
    "version": 3
   },
   "file_extension": ".py",
   "mimetype": "text/x-python",
   "name": "python",
   "nbconvert_exporter": "python",
   "pygments_lexer": "ipython3",
   "version": "3.12.2"
  }
 },
 "nbformat": 4,
 "nbformat_minor": 1
}
